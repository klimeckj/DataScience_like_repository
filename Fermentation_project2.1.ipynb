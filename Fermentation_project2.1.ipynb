{
 "cells": [
  {
   "cell_type": "markdown",
   "metadata": {},
   "source": [
    "# Industrial-scale penicillin simulation - Data analysis"
   ]
  },
  {
   "cell_type": "markdown",
   "metadata": {},
   "source": [
    "This project uses data from http://www.industrialpenicillinsimulation.com/. The data was generated using an advanced mathematical simulation of a 100,000 litre penicillin fermentation system referenced as IndPenSim. As they say: \n",
    "\n",
    "    'IndPenSim is the first simulation to include a realistic simulated Raman spectroscopy device for the purpose \n",
    "    of developing, evaluating and implementation of advanced and innovative control solutions applicable to \n",
    "    biotechnology facilities.'\n",
    "This data contains 100 batches with all available process and Raman spectroscopy measurements. The 100 batches are controlled using different control strategies and different batch lengths representing a typical Biopharmaceutical manufacturing facility:\n",
    "\n",
    "        Batches 1-30: Controlled by recipe driven approach\n",
    "        Batches 31-60: Controlled by operators\n",
    "        Batches 61:90: Controlled by an Advanced Process Control (APC) solution using the Raman spectroscopy\n",
    "        Batches 91:100: Contain faults resulting in process deviations."
   ]
  },
  {
   "cell_type": "code",
   "execution_count": 1,
   "metadata": {},
   "outputs": [],
   "source": [
    "import pandas as pd\n",
    "import numpy as np"
   ]
  },
  {
   "cell_type": "code",
   "execution_count": 2,
   "metadata": {},
   "outputs": [],
   "source": [
    "%%capture\n",
    "!pip install seaborn\n",
    "import matplotlib.pyplot as plt\n",
    "import seaborn as sns\n",
    "%matplotlib inline"
   ]
  },
  {
   "cell_type": "code",
   "execution_count": 3,
   "metadata": {},
   "outputs": [
    {
     "name": "stdout",
     "output_type": "stream",
     "text": [
      "Requirement already satisfied: researchpy in c:\\users\\klime\\anaconda3\\lib\\site-packages (0.2.2)\n",
      "Requirement already satisfied: scipy in c:\\users\\klime\\anaconda3\\lib\\site-packages (from researchpy) (1.4.1)\n",
      "Requirement already satisfied: pandas in c:\\users\\klime\\anaconda3\\lib\\site-packages (from researchpy) (1.0.1)\n",
      "Requirement already satisfied: numpy in c:\\users\\klime\\anaconda3\\lib\\site-packages (from researchpy) (1.18.1)\n",
      "Requirement already satisfied: statsmodels in c:\\users\\klime\\anaconda3\\lib\\site-packages (from researchpy) (0.11.0)\n",
      "Requirement already satisfied: pytz>=2017.2 in c:\\users\\klime\\anaconda3\\lib\\site-packages (from pandas->researchpy) (2019.3)\n",
      "Requirement already satisfied: python-dateutil>=2.6.1 in c:\\users\\klime\\anaconda3\\lib\\site-packages (from pandas->researchpy) (2.8.1)\n",
      "Requirement already satisfied: patsy>=0.5 in c:\\users\\klime\\anaconda3\\lib\\site-packages (from statsmodels->researchpy) (0.5.1)\n",
      "Requirement already satisfied: six>=1.5 in c:\\users\\klime\\anaconda3\\lib\\site-packages (from python-dateutil>=2.6.1->pandas->researchpy) (1.14.0)\n",
      "Note: you may need to restart the kernel to use updated packages.\n"
     ]
    }
   ],
   "source": [
    "pip install researchpy"
   ]
  },
  {
   "cell_type": "code",
   "execution_count": 4,
   "metadata": {},
   "outputs": [],
   "source": [
    "data_total = pd.read_csv(r\"C:\\Users\\klime\\Downloads\\100_Batches_IndPenSim\\Mendeley_data\\100_Batches_IndPenSim_V3.csv\")"
   ]
  },
  {
   "cell_type": "code",
   "execution_count": 5,
   "metadata": {},
   "outputs": [
    {
     "data": {
      "text/html": [
       "<div>\n",
       "<style scoped>\n",
       "    .dataframe tbody tr th:only-of-type {\n",
       "        vertical-align: middle;\n",
       "    }\n",
       "\n",
       "    .dataframe tbody tr th {\n",
       "        vertical-align: top;\n",
       "    }\n",
       "\n",
       "    .dataframe thead th {\n",
       "        text-align: right;\n",
       "    }\n",
       "</style>\n",
       "<table border=\"1\" class=\"dataframe\">\n",
       "  <thead>\n",
       "    <tr style=\"text-align: right;\">\n",
       "      <th></th>\n",
       "      <th>Time (h)</th>\n",
       "      <th>Aeration rate(Fg:L/h)</th>\n",
       "      <th>Agitator RPM(RPM:RPM)</th>\n",
       "      <th>Sugar feed rate(Fs:L/h)</th>\n",
       "      <th>Acid flow rate(Fa:L/h)</th>\n",
       "      <th>Base flow rate(Fb:L/h)</th>\n",
       "      <th>Heating/cooling water flow rate(Fc:L/h)</th>\n",
       "      <th>Heating water flow rate(Fh:L/h)</th>\n",
       "      <th>Water for injection/dilution(Fw:L/h)</th>\n",
       "      <th>Air head pressure(pressure:bar)</th>\n",
       "      <th>...</th>\n",
       "      <th>210</th>\n",
       "      <th>209</th>\n",
       "      <th>208</th>\n",
       "      <th>207</th>\n",
       "      <th>206</th>\n",
       "      <th>205</th>\n",
       "      <th>204</th>\n",
       "      <th>203</th>\n",
       "      <th>202</th>\n",
       "      <th>201</th>\n",
       "    </tr>\n",
       "  </thead>\n",
       "  <tbody>\n",
       "    <tr>\n",
       "      <th>0</th>\n",
       "      <td>0.2</td>\n",
       "      <td>30</td>\n",
       "      <td>100</td>\n",
       "      <td>8</td>\n",
       "      <td>0.0000</td>\n",
       "      <td>30.1180</td>\n",
       "      <td>9.8335</td>\n",
       "      <td>0.00010</td>\n",
       "      <td>0</td>\n",
       "      <td>0.6</td>\n",
       "      <td>...</td>\n",
       "      <td>0.0</td>\n",
       "      <td>0.0</td>\n",
       "      <td>0.0</td>\n",
       "      <td>0.0</td>\n",
       "      <td>0.0</td>\n",
       "      <td>0.0</td>\n",
       "      <td>0.0</td>\n",
       "      <td>0.0</td>\n",
       "      <td>NaN</td>\n",
       "      <td>NaN</td>\n",
       "    </tr>\n",
       "    <tr>\n",
       "      <th>1</th>\n",
       "      <td>0.4</td>\n",
       "      <td>30</td>\n",
       "      <td>100</td>\n",
       "      <td>8</td>\n",
       "      <td>0.0000</td>\n",
       "      <td>51.2210</td>\n",
       "      <td>18.1550</td>\n",
       "      <td>0.00010</td>\n",
       "      <td>0</td>\n",
       "      <td>0.6</td>\n",
       "      <td>...</td>\n",
       "      <td>0.0</td>\n",
       "      <td>0.0</td>\n",
       "      <td>0.0</td>\n",
       "      <td>0.0</td>\n",
       "      <td>0.0</td>\n",
       "      <td>0.0</td>\n",
       "      <td>0.0</td>\n",
       "      <td>0.0</td>\n",
       "      <td>NaN</td>\n",
       "      <td>NaN</td>\n",
       "    </tr>\n",
       "    <tr>\n",
       "      <th>2</th>\n",
       "      <td>0.6</td>\n",
       "      <td>30</td>\n",
       "      <td>100</td>\n",
       "      <td>8</td>\n",
       "      <td>0.0000</td>\n",
       "      <td>54.3020</td>\n",
       "      <td>9.5982</td>\n",
       "      <td>0.00010</td>\n",
       "      <td>0</td>\n",
       "      <td>0.6</td>\n",
       "      <td>...</td>\n",
       "      <td>0.0</td>\n",
       "      <td>0.0</td>\n",
       "      <td>0.0</td>\n",
       "      <td>0.0</td>\n",
       "      <td>0.0</td>\n",
       "      <td>0.0</td>\n",
       "      <td>0.0</td>\n",
       "      <td>0.0</td>\n",
       "      <td>NaN</td>\n",
       "      <td>NaN</td>\n",
       "    </tr>\n",
       "    <tr>\n",
       "      <th>3</th>\n",
       "      <td>0.8</td>\n",
       "      <td>30</td>\n",
       "      <td>100</td>\n",
       "      <td>8</td>\n",
       "      <td>0.0000</td>\n",
       "      <td>37.8160</td>\n",
       "      <td>4.3395</td>\n",
       "      <td>0.00010</td>\n",
       "      <td>0</td>\n",
       "      <td>0.6</td>\n",
       "      <td>...</td>\n",
       "      <td>0.0</td>\n",
       "      <td>0.0</td>\n",
       "      <td>0.0</td>\n",
       "      <td>0.0</td>\n",
       "      <td>0.0</td>\n",
       "      <td>0.0</td>\n",
       "      <td>0.0</td>\n",
       "      <td>0.0</td>\n",
       "      <td>NaN</td>\n",
       "      <td>NaN</td>\n",
       "    </tr>\n",
       "    <tr>\n",
       "      <th>4</th>\n",
       "      <td>1.0</td>\n",
       "      <td>30</td>\n",
       "      <td>100</td>\n",
       "      <td>8</td>\n",
       "      <td>0.5181</td>\n",
       "      <td>18.9080</td>\n",
       "      <td>1.1045</td>\n",
       "      <td>0.00010</td>\n",
       "      <td>0</td>\n",
       "      <td>0.6</td>\n",
       "      <td>...</td>\n",
       "      <td>0.0</td>\n",
       "      <td>0.0</td>\n",
       "      <td>0.0</td>\n",
       "      <td>0.0</td>\n",
       "      <td>0.0</td>\n",
       "      <td>0.0</td>\n",
       "      <td>0.0</td>\n",
       "      <td>0.0</td>\n",
       "      <td>NaN</td>\n",
       "      <td>NaN</td>\n",
       "    </tr>\n",
       "    <tr>\n",
       "      <th>...</th>\n",
       "      <td>...</td>\n",
       "      <td>...</td>\n",
       "      <td>...</td>\n",
       "      <td>...</td>\n",
       "      <td>...</td>\n",
       "      <td>...</td>\n",
       "      <td>...</td>\n",
       "      <td>...</td>\n",
       "      <td>...</td>\n",
       "      <td>...</td>\n",
       "      <td>...</td>\n",
       "      <td>...</td>\n",
       "      <td>...</td>\n",
       "      <td>...</td>\n",
       "      <td>...</td>\n",
       "      <td>...</td>\n",
       "      <td>...</td>\n",
       "      <td>...</td>\n",
       "      <td>...</td>\n",
       "      <td>...</td>\n",
       "      <td>...</td>\n",
       "    </tr>\n",
       "    <tr>\n",
       "      <th>113930</th>\n",
       "      <td>229.2</td>\n",
       "      <td>65</td>\n",
       "      <td>100</td>\n",
       "      <td>80</td>\n",
       "      <td>0.0000</td>\n",
       "      <td>12.9000</td>\n",
       "      <td>33.5860</td>\n",
       "      <td>5.93590</td>\n",
       "      <td>250</td>\n",
       "      <td>0.9</td>\n",
       "      <td>...</td>\n",
       "      <td>816050.0</td>\n",
       "      <td>823390.0</td>\n",
       "      <td>830160.0</td>\n",
       "      <td>835530.0</td>\n",
       "      <td>839140.0</td>\n",
       "      <td>840570.0</td>\n",
       "      <td>840160.0</td>\n",
       "      <td>838580.0</td>\n",
       "      <td>NaN</td>\n",
       "      <td>NaN</td>\n",
       "    </tr>\n",
       "    <tr>\n",
       "      <th>113931</th>\n",
       "      <td>229.4</td>\n",
       "      <td>65</td>\n",
       "      <td>100</td>\n",
       "      <td>80</td>\n",
       "      <td>0.0000</td>\n",
       "      <td>10.0470</td>\n",
       "      <td>10.0760</td>\n",
       "      <td>98.83400</td>\n",
       "      <td>250</td>\n",
       "      <td>0.9</td>\n",
       "      <td>...</td>\n",
       "      <td>773520.0</td>\n",
       "      <td>780840.0</td>\n",
       "      <td>787470.0</td>\n",
       "      <td>792750.0</td>\n",
       "      <td>796220.0</td>\n",
       "      <td>797610.0</td>\n",
       "      <td>797270.0</td>\n",
       "      <td>796020.0</td>\n",
       "      <td>NaN</td>\n",
       "      <td>NaN</td>\n",
       "    </tr>\n",
       "    <tr>\n",
       "      <th>113932</th>\n",
       "      <td>229.6</td>\n",
       "      <td>65</td>\n",
       "      <td>100</td>\n",
       "      <td>80</td>\n",
       "      <td>0.0000</td>\n",
       "      <td>7.3609</td>\n",
       "      <td>69.3450</td>\n",
       "      <td>9.88340</td>\n",
       "      <td>250</td>\n",
       "      <td>0.9</td>\n",
       "      <td>...</td>\n",
       "      <td>788240.0</td>\n",
       "      <td>795550.0</td>\n",
       "      <td>802190.0</td>\n",
       "      <td>807420.0</td>\n",
       "      <td>810590.0</td>\n",
       "      <td>811660.0</td>\n",
       "      <td>811210.0</td>\n",
       "      <td>809960.0</td>\n",
       "      <td>NaN</td>\n",
       "      <td>NaN</td>\n",
       "    </tr>\n",
       "    <tr>\n",
       "      <th>113933</th>\n",
       "      <td>229.8</td>\n",
       "      <td>65</td>\n",
       "      <td>100</td>\n",
       "      <td>80</td>\n",
       "      <td>0.0000</td>\n",
       "      <td>6.2794</td>\n",
       "      <td>38.6100</td>\n",
       "      <td>0.98834</td>\n",
       "      <td>250</td>\n",
       "      <td>0.9</td>\n",
       "      <td>...</td>\n",
       "      <td>781180.0</td>\n",
       "      <td>788420.0</td>\n",
       "      <td>794950.0</td>\n",
       "      <td>800140.0</td>\n",
       "      <td>803610.0</td>\n",
       "      <td>804900.0</td>\n",
       "      <td>804490.0</td>\n",
       "      <td>803410.0</td>\n",
       "      <td>NaN</td>\n",
       "      <td>NaN</td>\n",
       "    </tr>\n",
       "    <tr>\n",
       "      <th>113934</th>\n",
       "      <td>230.0</td>\n",
       "      <td>65</td>\n",
       "      <td>100</td>\n",
       "      <td>80</td>\n",
       "      <td>0.0000</td>\n",
       "      <td>7.3055</td>\n",
       "      <td>11.5830</td>\n",
       "      <td>67.53600</td>\n",
       "      <td>250</td>\n",
       "      <td>0.9</td>\n",
       "      <td>...</td>\n",
       "      <td>778800.0</td>\n",
       "      <td>785950.0</td>\n",
       "      <td>792440.0</td>\n",
       "      <td>797700.0</td>\n",
       "      <td>801130.0</td>\n",
       "      <td>802350.0</td>\n",
       "      <td>801770.0</td>\n",
       "      <td>799850.0</td>\n",
       "      <td>NaN</td>\n",
       "      <td>NaN</td>\n",
       "    </tr>\n",
       "  </tbody>\n",
       "</table>\n",
       "<p>113935 rows × 2239 columns</p>\n",
       "</div>"
      ],
      "text/plain": [
       "        Time (h)  Aeration rate(Fg:L/h)  Agitator RPM(RPM:RPM)  \\\n",
       "0            0.2                     30                    100   \n",
       "1            0.4                     30                    100   \n",
       "2            0.6                     30                    100   \n",
       "3            0.8                     30                    100   \n",
       "4            1.0                     30                    100   \n",
       "...          ...                    ...                    ...   \n",
       "113930     229.2                     65                    100   \n",
       "113931     229.4                     65                    100   \n",
       "113932     229.6                     65                    100   \n",
       "113933     229.8                     65                    100   \n",
       "113934     230.0                     65                    100   \n",
       "\n",
       "        Sugar feed rate(Fs:L/h)  Acid flow rate(Fa:L/h)  \\\n",
       "0                             8                  0.0000   \n",
       "1                             8                  0.0000   \n",
       "2                             8                  0.0000   \n",
       "3                             8                  0.0000   \n",
       "4                             8                  0.5181   \n",
       "...                         ...                     ...   \n",
       "113930                       80                  0.0000   \n",
       "113931                       80                  0.0000   \n",
       "113932                       80                  0.0000   \n",
       "113933                       80                  0.0000   \n",
       "113934                       80                  0.0000   \n",
       "\n",
       "        Base flow rate(Fb:L/h)  Heating/cooling water flow rate(Fc:L/h)  \\\n",
       "0                      30.1180                                   9.8335   \n",
       "1                      51.2210                                  18.1550   \n",
       "2                      54.3020                                   9.5982   \n",
       "3                      37.8160                                   4.3395   \n",
       "4                      18.9080                                   1.1045   \n",
       "...                        ...                                      ...   \n",
       "113930                 12.9000                                  33.5860   \n",
       "113931                 10.0470                                  10.0760   \n",
       "113932                  7.3609                                  69.3450   \n",
       "113933                  6.2794                                  38.6100   \n",
       "113934                  7.3055                                  11.5830   \n",
       "\n",
       "        Heating water flow rate(Fh:L/h)  Water for injection/dilution(Fw:L/h)  \\\n",
       "0                               0.00010                                     0   \n",
       "1                               0.00010                                     0   \n",
       "2                               0.00010                                     0   \n",
       "3                               0.00010                                     0   \n",
       "4                               0.00010                                     0   \n",
       "...                                 ...                                   ...   \n",
       "113930                          5.93590                                   250   \n",
       "113931                         98.83400                                   250   \n",
       "113932                          9.88340                                   250   \n",
       "113933                          0.98834                                   250   \n",
       "113934                         67.53600                                   250   \n",
       "\n",
       "        Air head pressure(pressure:bar)  ...       210       209       208  \\\n",
       "0                                   0.6  ...       0.0       0.0       0.0   \n",
       "1                                   0.6  ...       0.0       0.0       0.0   \n",
       "2                                   0.6  ...       0.0       0.0       0.0   \n",
       "3                                   0.6  ...       0.0       0.0       0.0   \n",
       "4                                   0.6  ...       0.0       0.0       0.0   \n",
       "...                                 ...  ...       ...       ...       ...   \n",
       "113930                              0.9  ...  816050.0  823390.0  830160.0   \n",
       "113931                              0.9  ...  773520.0  780840.0  787470.0   \n",
       "113932                              0.9  ...  788240.0  795550.0  802190.0   \n",
       "113933                              0.9  ...  781180.0  788420.0  794950.0   \n",
       "113934                              0.9  ...  778800.0  785950.0  792440.0   \n",
       "\n",
       "             207       206       205       204       203  202  201  \n",
       "0            0.0       0.0       0.0       0.0       0.0  NaN  NaN  \n",
       "1            0.0       0.0       0.0       0.0       0.0  NaN  NaN  \n",
       "2            0.0       0.0       0.0       0.0       0.0  NaN  NaN  \n",
       "3            0.0       0.0       0.0       0.0       0.0  NaN  NaN  \n",
       "4            0.0       0.0       0.0       0.0       0.0  NaN  NaN  \n",
       "...          ...       ...       ...       ...       ...  ...  ...  \n",
       "113930  835530.0  839140.0  840570.0  840160.0  838580.0  NaN  NaN  \n",
       "113931  792750.0  796220.0  797610.0  797270.0  796020.0  NaN  NaN  \n",
       "113932  807420.0  810590.0  811660.0  811210.0  809960.0  NaN  NaN  \n",
       "113933  800140.0  803610.0  804900.0  804490.0  803410.0  NaN  NaN  \n",
       "113934  797700.0  801130.0  802350.0  801770.0  799850.0  NaN  NaN  \n",
       "\n",
       "[113935 rows x 2239 columns]"
      ]
     },
     "execution_count": 5,
     "metadata": {},
     "output_type": "execute_result"
    }
   ],
   "source": [
    "data_total #all available data"
   ]
  },
  {
   "cell_type": "code",
   "execution_count": 6,
   "metadata": {},
   "outputs": [
    {
     "data": {
      "text/plain": [
       "(113935, 2239)"
      ]
     },
     "execution_count": 6,
     "metadata": {},
     "output_type": "execute_result"
    }
   ],
   "source": [
    "data_total.shape"
   ]
  },
  {
   "cell_type": "code",
   "execution_count": 7,
   "metadata": {},
   "outputs": [],
   "source": [
    "data_sum = pd.read_csv(r\"C:\\Users\\klime\\Downloads\\100_Batches_IndPenSim\\Mendeley_data\\100_Batches_IndPenSim_Statistics.csv\")"
   ]
  },
  {
   "cell_type": "code",
   "execution_count": 8,
   "metadata": {},
   "outputs": [
    {
     "data": {
      "text/html": [
       "<div>\n",
       "<style scoped>\n",
       "    .dataframe tbody tr th:only-of-type {\n",
       "        vertical-align: middle;\n",
       "    }\n",
       "\n",
       "    .dataframe tbody tr th {\n",
       "        vertical-align: top;\n",
       "    }\n",
       "\n",
       "    .dataframe thead th {\n",
       "        text-align: right;\n",
       "    }\n",
       "</style>\n",
       "<table border=\"1\" class=\"dataframe\">\n",
       "  <thead>\n",
       "    <tr style=\"text-align: right;\">\n",
       "      <th></th>\n",
       "      <th>Batch ref</th>\n",
       "      <th>Penicllin_harvested_during_batch(kg)</th>\n",
       "      <th>Penicllin_harvested_end_of_batch (kg)</th>\n",
       "      <th>Penicllin_yield_total (kg)</th>\n",
       "      <th>Fault ref(0-NoFault 1-Fault)</th>\n",
       "    </tr>\n",
       "  </thead>\n",
       "  <tbody>\n",
       "    <tr>\n",
       "      <th>0</th>\n",
       "      <td>1</td>\n",
       "      <td>1066400.0</td>\n",
       "      <td>1720000.0</td>\n",
       "      <td>2786400.0</td>\n",
       "      <td>0</td>\n",
       "    </tr>\n",
       "    <tr>\n",
       "      <th>1</th>\n",
       "      <td>2</td>\n",
       "      <td>985910.0</td>\n",
       "      <td>1340100.0</td>\n",
       "      <td>2326000.0</td>\n",
       "      <td>0</td>\n",
       "    </tr>\n",
       "    <tr>\n",
       "      <th>2</th>\n",
       "      <td>3</td>\n",
       "      <td>1416100.0</td>\n",
       "      <td>1259200.0</td>\n",
       "      <td>2675300.0</td>\n",
       "      <td>0</td>\n",
       "    </tr>\n",
       "    <tr>\n",
       "      <th>3</th>\n",
       "      <td>4</td>\n",
       "      <td>815700.0</td>\n",
       "      <td>1071000.0</td>\n",
       "      <td>1886700.0</td>\n",
       "      <td>0</td>\n",
       "    </tr>\n",
       "    <tr>\n",
       "      <th>4</th>\n",
       "      <td>5</td>\n",
       "      <td>1128500.0</td>\n",
       "      <td>2434400.0</td>\n",
       "      <td>3562900.0</td>\n",
       "      <td>0</td>\n",
       "    </tr>\n",
       "  </tbody>\n",
       "</table>\n",
       "</div>"
      ],
      "text/plain": [
       "   Batch ref  Penicllin_harvested_during_batch(kg)  \\\n",
       "0          1                             1066400.0   \n",
       "1          2                              985910.0   \n",
       "2          3                             1416100.0   \n",
       "3          4                              815700.0   \n",
       "4          5                             1128500.0   \n",
       "\n",
       "   Penicllin_harvested_end_of_batch (kg)  Penicllin_yield_total (kg)  \\\n",
       "0                              1720000.0                   2786400.0   \n",
       "1                              1340100.0                   2326000.0   \n",
       "2                              1259200.0                   2675300.0   \n",
       "3                              1071000.0                   1886700.0   \n",
       "4                              2434400.0                   3562900.0   \n",
       "\n",
       "   Fault ref(0-NoFault 1-Fault)  \n",
       "0                             0  \n",
       "1                             0  \n",
       "2                             0  \n",
       "3                             0  \n",
       "4                             0  "
      ]
     },
     "execution_count": 8,
     "metadata": {},
     "output_type": "execute_result"
    }
   ],
   "source": [
    "data_sum.head() #summary of data"
   ]
  },
  {
   "cell_type": "code",
   "execution_count": 9,
   "metadata": {},
   "outputs": [
    {
     "data": {
      "text/plain": [
       "(100, 5)"
      ]
     },
     "execution_count": 9,
     "metadata": {},
     "output_type": "execute_result"
    }
   ],
   "source": [
    "data_sum.shape"
   ]
  },
  {
   "cell_type": "markdown",
   "metadata": {},
   "source": [
    "We have looked at data and there is need to assign type of process controll according to Batch ref. For this purpose there is function process():"
   ]
  },
  {
   "cell_type": "code",
   "execution_count": 10,
   "metadata": {},
   "outputs": [],
   "source": [
    "def process(row):\n",
    "    if row['Batch ref'] <31:\n",
    "        val = 'Recipes driven'\n",
    "    elif row['Batch ref'] < 61 and row['Batch ref']>30:\n",
    "        val = 'Operator driven'\n",
    "    elif row['Batch ref'] < 91 and row['Batch ref']>60:\n",
    "        val = 'Advanced'\n",
    "    else:\n",
    "        val = 'Process deviations'\n",
    "    return val"
   ]
  },
  {
   "cell_type": "code",
   "execution_count": 11,
   "metadata": {},
   "outputs": [],
   "source": [
    "data_sum['Process control'] = data_sum.apply(process, axis = 1)"
   ]
  },
  {
   "cell_type": "code",
   "execution_count": 12,
   "metadata": {},
   "outputs": [],
   "source": [
    "data_sum.rename(columns={'Penicllin_yield_total (kg)':'Penicillin_yield_total (kg)'}, inplace=True)"
   ]
  },
  {
   "cell_type": "code",
   "execution_count": 13,
   "metadata": {},
   "outputs": [
    {
     "data": {
      "text/html": [
       "<div>\n",
       "<style scoped>\n",
       "    .dataframe tbody tr th:only-of-type {\n",
       "        vertical-align: middle;\n",
       "    }\n",
       "\n",
       "    .dataframe tbody tr th {\n",
       "        vertical-align: top;\n",
       "    }\n",
       "\n",
       "    .dataframe thead th {\n",
       "        text-align: right;\n",
       "    }\n",
       "</style>\n",
       "<table border=\"1\" class=\"dataframe\">\n",
       "  <thead>\n",
       "    <tr style=\"text-align: right;\">\n",
       "      <th></th>\n",
       "      <th>Batch ref</th>\n",
       "      <th>Penicllin_harvested_during_batch(kg)</th>\n",
       "      <th>Penicllin_harvested_end_of_batch (kg)</th>\n",
       "      <th>Penicillin_yield_total (kg)</th>\n",
       "      <th>Fault ref(0-NoFault 1-Fault)</th>\n",
       "      <th>Process control</th>\n",
       "    </tr>\n",
       "  </thead>\n",
       "  <tbody>\n",
       "    <tr>\n",
       "      <th>0</th>\n",
       "      <td>1</td>\n",
       "      <td>1066400.0</td>\n",
       "      <td>1720000.0</td>\n",
       "      <td>2786400.0</td>\n",
       "      <td>0</td>\n",
       "      <td>Recipes driven</td>\n",
       "    </tr>\n",
       "    <tr>\n",
       "      <th>1</th>\n",
       "      <td>2</td>\n",
       "      <td>985910.0</td>\n",
       "      <td>1340100.0</td>\n",
       "      <td>2326000.0</td>\n",
       "      <td>0</td>\n",
       "      <td>Recipes driven</td>\n",
       "    </tr>\n",
       "    <tr>\n",
       "      <th>2</th>\n",
       "      <td>3</td>\n",
       "      <td>1416100.0</td>\n",
       "      <td>1259200.0</td>\n",
       "      <td>2675300.0</td>\n",
       "      <td>0</td>\n",
       "      <td>Recipes driven</td>\n",
       "    </tr>\n",
       "    <tr>\n",
       "      <th>3</th>\n",
       "      <td>4</td>\n",
       "      <td>815700.0</td>\n",
       "      <td>1071000.0</td>\n",
       "      <td>1886700.0</td>\n",
       "      <td>0</td>\n",
       "      <td>Recipes driven</td>\n",
       "    </tr>\n",
       "    <tr>\n",
       "      <th>4</th>\n",
       "      <td>5</td>\n",
       "      <td>1128500.0</td>\n",
       "      <td>2434400.0</td>\n",
       "      <td>3562900.0</td>\n",
       "      <td>0</td>\n",
       "      <td>Recipes driven</td>\n",
       "    </tr>\n",
       "  </tbody>\n",
       "</table>\n",
       "</div>"
      ],
      "text/plain": [
       "   Batch ref  Penicllin_harvested_during_batch(kg)  \\\n",
       "0          1                             1066400.0   \n",
       "1          2                              985910.0   \n",
       "2          3                             1416100.0   \n",
       "3          4                              815700.0   \n",
       "4          5                             1128500.0   \n",
       "\n",
       "   Penicllin_harvested_end_of_batch (kg)  Penicillin_yield_total (kg)  \\\n",
       "0                              1720000.0                    2786400.0   \n",
       "1                              1340100.0                    2326000.0   \n",
       "2                              1259200.0                    2675300.0   \n",
       "3                              1071000.0                    1886700.0   \n",
       "4                              2434400.0                    3562900.0   \n",
       "\n",
       "   Fault ref(0-NoFault 1-Fault) Process control  \n",
       "0                             0  Recipes driven  \n",
       "1                             0  Recipes driven  \n",
       "2                             0  Recipes driven  \n",
       "3                             0  Recipes driven  \n",
       "4                             0  Recipes driven  "
      ]
     },
     "execution_count": 13,
     "metadata": {},
     "output_type": "execute_result"
    }
   ],
   "source": [
    "data_sum.head()"
   ]
  },
  {
   "cell_type": "markdown",
   "metadata": {},
   "source": [
    "Splitting the data into process measurement data and Raman spectroscopy data."
   ]
  },
  {
   "cell_type": "code",
   "execution_count": 14,
   "metadata": {},
   "outputs": [
    {
     "data": {
      "text/html": [
       "<div>\n",
       "<style scoped>\n",
       "    .dataframe tbody tr th:only-of-type {\n",
       "        vertical-align: middle;\n",
       "    }\n",
       "\n",
       "    .dataframe tbody tr th {\n",
       "        vertical-align: top;\n",
       "    }\n",
       "\n",
       "    .dataframe thead th {\n",
       "        text-align: right;\n",
       "    }\n",
       "</style>\n",
       "<table border=\"1\" class=\"dataframe\">\n",
       "  <thead>\n",
       "    <tr style=\"text-align: right;\">\n",
       "      <th></th>\n",
       "      <th>Time (h)</th>\n",
       "      <th>Aeration rate(Fg:L/h)</th>\n",
       "      <th>Agitator RPM(RPM:RPM)</th>\n",
       "      <th>Sugar feed rate(Fs:L/h)</th>\n",
       "      <th>Acid flow rate(Fa:L/h)</th>\n",
       "      <th>Base flow rate(Fb:L/h)</th>\n",
       "      <th>Heating/cooling water flow rate(Fc:L/h)</th>\n",
       "      <th>Heating water flow rate(Fh:L/h)</th>\n",
       "      <th>Water for injection/dilution(Fw:L/h)</th>\n",
       "      <th>Air head pressure(pressure:bar)</th>\n",
       "      <th>...</th>\n",
       "      <th>Ammonia shots(NH3_shots:kgs)</th>\n",
       "      <th>Viscosity(Viscosity_offline:centPoise)</th>\n",
       "      <th>Fault reference(Fault_ref:Fault ref)</th>\n",
       "      <th>0 - Recipe driven 1 - Operator controlled(Control_ref:Control ref)</th>\n",
       "      <th>1- No Raman spec</th>\n",
       "      <th>1-Raman spec recorded</th>\n",
       "      <th>Batch_ref</th>\n",
       "      <th>2-PAT control(PAT_ref:PAT ref)</th>\n",
       "      <th>Batch ID</th>\n",
       "      <th>Fault flag</th>\n",
       "    </tr>\n",
       "  </thead>\n",
       "  <tbody>\n",
       "    <tr>\n",
       "      <th>0</th>\n",
       "      <td>0.2</td>\n",
       "      <td>30.0</td>\n",
       "      <td>100.0</td>\n",
       "      <td>8.0</td>\n",
       "      <td>0.0</td>\n",
       "      <td>30.118</td>\n",
       "      <td>9.8335</td>\n",
       "      <td>0.0001</td>\n",
       "      <td>0.0</td>\n",
       "      <td>0.6</td>\n",
       "      <td>...</td>\n",
       "      <td>0.0</td>\n",
       "      <td>NaN</td>\n",
       "      <td>0.0</td>\n",
       "      <td>0.0</td>\n",
       "      <td>1.0</td>\n",
       "      <td>1.0</td>\n",
       "      <td>1.0</td>\n",
       "      <td>0.0</td>\n",
       "      <td>0.0</td>\n",
       "      <td>0.0</td>\n",
       "    </tr>\n",
       "    <tr>\n",
       "      <th>1</th>\n",
       "      <td>0.4</td>\n",
       "      <td>30.0</td>\n",
       "      <td>100.0</td>\n",
       "      <td>8.0</td>\n",
       "      <td>0.0</td>\n",
       "      <td>51.221</td>\n",
       "      <td>18.1550</td>\n",
       "      <td>0.0001</td>\n",
       "      <td>0.0</td>\n",
       "      <td>0.6</td>\n",
       "      <td>...</td>\n",
       "      <td>0.0</td>\n",
       "      <td>NaN</td>\n",
       "      <td>0.0</td>\n",
       "      <td>0.0</td>\n",
       "      <td>1.0</td>\n",
       "      <td>1.0</td>\n",
       "      <td>1.0</td>\n",
       "      <td>0.0</td>\n",
       "      <td>0.0</td>\n",
       "      <td>0.0</td>\n",
       "    </tr>\n",
       "    <tr>\n",
       "      <th>2</th>\n",
       "      <td>0.6</td>\n",
       "      <td>30.0</td>\n",
       "      <td>100.0</td>\n",
       "      <td>8.0</td>\n",
       "      <td>0.0</td>\n",
       "      <td>54.302</td>\n",
       "      <td>9.5982</td>\n",
       "      <td>0.0001</td>\n",
       "      <td>0.0</td>\n",
       "      <td>0.6</td>\n",
       "      <td>...</td>\n",
       "      <td>0.0</td>\n",
       "      <td>NaN</td>\n",
       "      <td>0.0</td>\n",
       "      <td>0.0</td>\n",
       "      <td>1.0</td>\n",
       "      <td>1.0</td>\n",
       "      <td>1.0</td>\n",
       "      <td>0.0</td>\n",
       "      <td>0.0</td>\n",
       "      <td>0.0</td>\n",
       "    </tr>\n",
       "  </tbody>\n",
       "</table>\n",
       "<p>3 rows × 39 columns</p>\n",
       "</div>"
      ],
      "text/plain": [
       "   Time (h)  Aeration rate(Fg:L/h)  Agitator RPM(RPM:RPM)  \\\n",
       "0       0.2                   30.0                  100.0   \n",
       "1       0.4                   30.0                  100.0   \n",
       "2       0.6                   30.0                  100.0   \n",
       "\n",
       "   Sugar feed rate(Fs:L/h)  Acid flow rate(Fa:L/h)  Base flow rate(Fb:L/h)  \\\n",
       "0                      8.0                     0.0                  30.118   \n",
       "1                      8.0                     0.0                  51.221   \n",
       "2                      8.0                     0.0                  54.302   \n",
       "\n",
       "   Heating/cooling water flow rate(Fc:L/h)  Heating water flow rate(Fh:L/h)  \\\n",
       "0                                   9.8335                           0.0001   \n",
       "1                                  18.1550                           0.0001   \n",
       "2                                   9.5982                           0.0001   \n",
       "\n",
       "   Water for injection/dilution(Fw:L/h)  Air head pressure(pressure:bar)  ...  \\\n",
       "0                                   0.0                              0.6  ...   \n",
       "1                                   0.0                              0.6  ...   \n",
       "2                                   0.0                              0.6  ...   \n",
       "\n",
       "   Ammonia shots(NH3_shots:kgs)  Viscosity(Viscosity_offline:centPoise)  \\\n",
       "0                           0.0                                     NaN   \n",
       "1                           0.0                                     NaN   \n",
       "2                           0.0                                     NaN   \n",
       "\n",
       "   Fault reference(Fault_ref:Fault ref)  \\\n",
       "0                                   0.0   \n",
       "1                                   0.0   \n",
       "2                                   0.0   \n",
       "\n",
       "   0 - Recipe driven 1 - Operator controlled(Control_ref:Control ref)  \\\n",
       "0                                                0.0                    \n",
       "1                                                0.0                    \n",
       "2                                                0.0                    \n",
       "\n",
       "   1- No Raman spec   1-Raman spec recorded  Batch_ref  \\\n",
       "0               1.0                     1.0        1.0   \n",
       "1               1.0                     1.0        1.0   \n",
       "2               1.0                     1.0        1.0   \n",
       "\n",
       "   2-PAT control(PAT_ref:PAT ref)  Batch ID  Fault flag  \n",
       "0                             0.0       0.0         0.0  \n",
       "1                             0.0       0.0         0.0  \n",
       "2                             0.0       0.0         0.0  \n",
       "\n",
       "[3 rows x 39 columns]"
      ]
     },
     "execution_count": 14,
     "metadata": {},
     "output_type": "execute_result"
    }
   ],
   "source": [
    "variable_raman_data = np.split(data_total, [data_total.columns.get_loc(\"2400\")], axis=1)\n",
    "variable_data = variable_raman_data[0]\n",
    "variable_data.describe()\n",
    "### Reable Batch ID's correctly\n",
    "variable_data = variable_data.rename(columns={'2-PAT control(PAT_ref:PAT ref)':'Batch_ref','Batch reference(Batch_ref:Batch ref)':'2-PAT control(PAT_ref:PAT ref)'})\n",
    "raman_spectra = variable_raman_data[1]\n",
    "batch_ref_df = variable_data[['Batch_ref']]\n",
    "raman_spectra_batch_id = pd.concat([batch_ref_df, raman_spectra], axis=1)\n",
    "variable_data.shape\n",
    "variable_data.head(3)"
   ]
  },
  {
   "cell_type": "code",
   "execution_count": 15,
   "metadata": {},
   "outputs": [],
   "source": [
    "variable_data = variable_data.rename(columns={'Time (h)':'Time'})"
   ]
  },
  {
   "cell_type": "code",
   "execution_count": 16,
   "metadata": {},
   "outputs": [],
   "source": [
    "variable_list = variable_data.columns"
   ]
  },
  {
   "cell_type": "code",
   "execution_count": 17,
   "metadata": {},
   "outputs": [
    {
     "data": {
      "text/plain": [
       "Text(0, 0.5, 'Penicillin concentration(P:g/L)')"
      ]
     },
     "execution_count": 17,
     "metadata": {},
     "output_type": "execute_result"
    },
    {
     "data": {
      "image/png": "[encoded data removed]",
      "text/plain": [
       "<Figure size 576x432 with 1 Axes>"
      ]
     },
     "metadata": {
      "needs_background": "light"
     },
     "output_type": "display_data"
    }
   ],
   "source": [
    "fig, ax = plt.subplots(figsize=(8,6))\n",
    "bp = variable_data.groupby('Batch_ref').plot(x = 'Time', y = 'Penicillin concentration(P:g/L)',   ax=ax, legend = False, )\n",
    "ax.set_title('Summary of Campaigns')\n",
    "ax.set_xlabel('Time (h)')\n",
    "ax.set_ylabel('Penicillin concentration(P:g/L)')"
   ]
  },
  {
   "cell_type": "markdown",
   "metadata": {},
   "source": [
    "Dependence of Penicilin concentrations on time in individual batches. It is confusing and there is no value in this graph. The data need to be clean up first."
   ]
  },
  {
   "cell_type": "markdown",
   "metadata": {},
   "source": [
    "I am defining function process2() (because it is similar as function process) which match individual batches with numerical value based on type of process controll."
   ]
  },
  {
   "cell_type": "code",
   "execution_count": 18,
   "metadata": {},
   "outputs": [],
   "source": [
    "def process2(row):\n",
    "    if row['Batch_ref'] <31:\n",
    "        val = '1'\n",
    "    elif row['Batch_ref'] < 61 and row['Batch_ref']>30:\n",
    "        val = '2'\n",
    "    elif row['Batch_ref'] < 91 and row['Batch_ref']>60:\n",
    "        val = '3'\n",
    "    else:\n",
    "        val = '4'\n",
    "    return val"
   ]
  },
  {
   "cell_type": "code",
   "execution_count": 19,
   "metadata": {},
   "outputs": [],
   "source": [
    "variable_data['Process control'] = variable_data.apply(process2, axis = 1)"
   ]
  },
  {
   "cell_type": "markdown",
   "metadata": {},
   "source": [
    "And here comes interesting part. I am defining function MakeChart() which would compress that 100 batches into just 4, one for each type of process controll."
   ]
  },
  {
   "cell_type": "code",
   "execution_count": 20,
   "metadata": {},
   "outputs": [],
   "source": [
    "def MakeChart(variable):\n",
    "    selected = variable_data[['Time',variable,'Process control']]    #Selecting variables needed for chart\n",
    "    time_series_list = selected.values.tolist()                          #Transforming from dataframe to list\n",
    "    recipe=[]                                                            #Sublists with types of Process control\n",
    "    operators=[]\n",
    "    advanced=[]\n",
    "    deviations=[]\n",
    "    i=0\n",
    "    while i<len(time_series_list):                                       #Sorting to sublists based on Process control\n",
    "        if time_series_list[i][2]=='1':\n",
    "            recipe.append(time_series_list[i])\n",
    "        elif time_series_list[i][2]=='2':\n",
    "            operators.append(time_series_list[i])\n",
    "        elif time_series_list[i][2]=='3':\n",
    "            advanced.append(time_series_list[i])\n",
    "        else:\n",
    "            deviations.append(time_series_list[i])\n",
    "        i +=1\n",
    "    \n",
    "    df_recipe = pd.DataFrame(recipe)                                     #From sublists to subdataframes\n",
    "    df_operators = pd.DataFrame(operators)\n",
    "    df_advanced = pd.DataFrame(advanced)\n",
    "    df_deviations = pd.DataFrame(deviations)\n",
    "    del df_recipe[2]                                                     #Cleaning subdataframes\n",
    "    del df_operators[2]\n",
    "    del df_advanced[2]\n",
    "    del df_deviations[2]\n",
    "    recipe_avg = df_recipe.groupby(0).mean()                             #Averaging values\n",
    "    recipe_avg.rename(columns={1:'Recipes driven'}, inplace=True)\n",
    "    operators_avg = df_operators.groupby(0).mean()\n",
    "    operators_avg.rename(columns={1:'operators driven'}, inplace=True)\n",
    "    advanced_avg = df_advanced.groupby(0).mean()\n",
    "    advanced_avg.rename(columns={1:'Advanced solution'}, inplace=True)\n",
    "    deviations_avg = df_deviations.groupby(0).mean()\n",
    "    deviations_avg.rename(columns={1:'Process deviations'}, inplace=True)\n",
    "    dff = recipe_avg[['Recipes driven']]                                 #From subdataframes to one dataframe\n",
    "    dff['Operators driven'] = operators_avg\n",
    "    dff['Advanced solution'] = advanced_avg\n",
    "    dff['Process deviations'] = deviations_avg\n",
    "    df = dff.head(1205)                                                   \n",
    "    df['Time'] = df.index\n",
    "    df = df.reset_index(drop=True)\n",
    "    \n",
    "    fig, ax = plt.subplots(figsize=(8,6))                                #Making chart\n",
    "    jk=df.plot(x= 'Time', y = ['Recipes driven', 'Operators driven', 'Advanced solution', 'Process deviations'], ax=ax, legend=True)\n",
    "    ax.set_title(variable+'/ Time(h)')\n",
    "    ax.set_ylabel(variable)\n",
    "    ax.set_xlabel('Time (h)')"
   ]
  },
  {
   "cell_type": "code",
   "execution_count": 21,
   "metadata": {},
   "outputs": [
    {
     "name": "stderr",
     "output_type": "stream",
     "text": [
      "C:\\Users\\klime\\anaconda3\\lib\\site-packages\\ipykernel_launcher.py:41: SettingWithCopyWarning: \n",
      "A value is trying to be set on a copy of a slice from a DataFrame.\n",
      "Try using .loc[row_indexer,col_indexer] = value instead\n",
      "\n",
      "See the caveats in the documentation: https://pandas.pydata.org/pandas-docs/stable/user_guide/indexing.html#returning-a-view-versus-a-copy\n"
     ]
    },
    {
     "data": {
      "image/png": "[encoded data removed]",
      "text/plain": [
       "<Figure size 576x432 with 1 Axes>"
      ]
     },
     "metadata": {
      "needs_background": "light"
     },
     "output_type": "display_data"
    }
   ],
   "source": [
    "MakeChart('Penicillin concentration(P:g/L)')"
   ]
  },
  {
   "cell_type": "markdown",
   "metadata": {},
   "source": [
    "Yes, that´s clearer now. We can see that advanced process controll have highest yield of Penicillin. "
   ]
  },
  {
   "cell_type": "code",
   "execution_count": 22,
   "metadata": {},
   "outputs": [
    {
     "name": "stderr",
     "output_type": "stream",
     "text": [
      "C:\\Users\\klime\\anaconda3\\lib\\site-packages\\ipykernel_launcher.py:41: SettingWithCopyWarning: \n",
      "A value is trying to be set on a copy of a slice from a DataFrame.\n",
      "Try using .loc[row_indexer,col_indexer] = value instead\n",
      "\n",
      "See the caveats in the documentation: https://pandas.pydata.org/pandas-docs/stable/user_guide/indexing.html#returning-a-view-versus-a-copy\n"
     ]
    },
    {
     "data": {
      "image/png": "[encoded data removed]",
      "text/plain": [
       "<Figure size 576x432 with 1 Axes>"
      ]
     },
     "metadata": {
      "needs_background": "light"
     },
     "output_type": "display_data"
    }
   ],
   "source": [
    "MakeChart('PAA flow(Fpaa:PAA flow (L/h))')"
   ]
  },
  {
   "cell_type": "markdown",
   "metadata": {},
   "source": [
    "Advanced solution uses precise dosing of phenylacetic acid (PAA) based on actual need. "
   ]
  },
  {
   "cell_type": "markdown",
   "metadata": {},
   "source": [
    "Question is:\n",
    "Has Advanced solution significantly better yield than other types of process control?"
   ]
  },
  {
   "cell_type": "code",
   "execution_count": 23,
   "metadata": {},
   "outputs": [
    {
     "data": {
      "text/plain": [
       "<matplotlib.axes._subplots.AxesSubplot at 0x2054b61b608>"
      ]
     },
     "execution_count": 23,
     "metadata": {},
     "output_type": "execute_result"
    },
    {
     "data": {
      "image/png": "[encoded data removed]",
      "text/plain": [
       "<Figure size 432x288 with 1 Axes>"
      ]
     },
     "metadata": {
      "needs_background": "light"
     },
     "output_type": "display_data"
    }
   ],
   "source": [
    "sns.boxplot(x = 'Process control', y = 'Penicillin_yield_total (kg)', data = data_sum)\n"
   ]
  },
  {
   "cell_type": "markdown",
   "metadata": {},
   "source": [
    "We can see from the Boxplot that Advanced solution has highest value of median Penicillin yield. But performs significantly better than other?"
   ]
  },
  {
   "cell_type": "code",
   "execution_count": 24,
   "metadata": {},
   "outputs": [
    {
     "name": "stdout",
     "output_type": "stream",
     "text": [
      "\n",
      "\n"
     ]
    },
    {
     "data": {
      "text/html": [
       "<div>\n",
       "<style scoped>\n",
       "    .dataframe tbody tr th:only-of-type {\n",
       "        vertical-align: middle;\n",
       "    }\n",
       "\n",
       "    .dataframe tbody tr th {\n",
       "        vertical-align: top;\n",
       "    }\n",
       "\n",
       "    .dataframe thead th {\n",
       "        text-align: right;\n",
       "    }\n",
       "</style>\n",
       "<table border=\"1\" class=\"dataframe\">\n",
       "  <thead>\n",
       "    <tr style=\"text-align: right;\">\n",
       "      <th></th>\n",
       "      <th>N</th>\n",
       "      <th>Mean</th>\n",
       "      <th>SD</th>\n",
       "      <th>SE</th>\n",
       "      <th>95% Conf.</th>\n",
       "      <th>Interval</th>\n",
       "    </tr>\n",
       "    <tr>\n",
       "      <th>Process control</th>\n",
       "      <th></th>\n",
       "      <th></th>\n",
       "      <th></th>\n",
       "      <th></th>\n",
       "      <th></th>\n",
       "      <th></th>\n",
       "    </tr>\n",
       "  </thead>\n",
       "  <tbody>\n",
       "    <tr>\n",
       "      <th>Advanced</th>\n",
       "      <td>30</td>\n",
       "      <td>3.484283e+06</td>\n",
       "      <td>3.079801e+05</td>\n",
       "      <td>56229.217480</td>\n",
       "      <td>3.372190e+06</td>\n",
       "      <td>3.596377e+06</td>\n",
       "    </tr>\n",
       "    <tr>\n",
       "      <th>Operator driven</th>\n",
       "      <td>30</td>\n",
       "      <td>2.833113e+06</td>\n",
       "      <td>6.799292e+05</td>\n",
       "      <td>124137.527529</td>\n",
       "      <td>2.585644e+06</td>\n",
       "      <td>3.080582e+06</td>\n",
       "    </tr>\n",
       "    <tr>\n",
       "      <th>Process deviations</th>\n",
       "      <td>10</td>\n",
       "      <td>2.600203e+06</td>\n",
       "      <td>1.199611e+06</td>\n",
       "      <td>379350.210474</td>\n",
       "      <td>1.816457e+06</td>\n",
       "      <td>3.383949e+06</td>\n",
       "    </tr>\n",
       "    <tr>\n",
       "      <th>Recipes driven</th>\n",
       "      <td>30</td>\n",
       "      <td>2.912750e+06</td>\n",
       "      <td>7.675764e+05</td>\n",
       "      <td>140139.644456</td>\n",
       "      <td>2.633381e+06</td>\n",
       "      <td>3.192119e+06</td>\n",
       "    </tr>\n",
       "  </tbody>\n",
       "</table>\n",
       "</div>"
      ],
      "text/plain": [
       "                     N          Mean            SD             SE  \\\n",
       "Process control                                                     \n",
       "Advanced            30  3.484283e+06  3.079801e+05   56229.217480   \n",
       "Operator driven     30  2.833113e+06  6.799292e+05  124137.527529   \n",
       "Process deviations  10  2.600203e+06  1.199611e+06  379350.210474   \n",
       "Recipes driven      30  2.912750e+06  7.675764e+05  140139.644456   \n",
       "\n",
       "                       95% Conf.      Interval  \n",
       "Process control                                 \n",
       "Advanced            3.372190e+06  3.596377e+06  \n",
       "Operator driven     2.585644e+06  3.080582e+06  \n",
       "Process deviations  1.816457e+06  3.383949e+06  \n",
       "Recipes driven      2.633381e+06  3.192119e+06  "
      ]
     },
     "execution_count": 24,
     "metadata": {},
     "output_type": "execute_result"
    }
   ],
   "source": [
    "import researchpy as rp\n",
    "rp.summary_cont(data_sum['Penicillin_yield_total (kg)']. groupby(data_sum['Process control']))"
   ]
  },
  {
   "cell_type": "code",
   "execution_count": 25,
   "metadata": {},
   "outputs": [
    {
     "data": {
      "text/plain": [
       "F_onewayResult(statistic=6.659558242061837, pvalue=0.00039204294070446273)"
      ]
     },
     "execution_count": 25,
     "metadata": {},
     "output_type": "execute_result"
    }
   ],
   "source": [
    "import scipy.stats as stats\n",
    "stats.f_oneway(data_sum['Penicillin_yield_total (kg)'][data_sum['Process control']=='Advanced'],\n",
    "               data_sum['Penicillin_yield_total (kg)'][data_sum['Process control']=='Operator driven'],\n",
    "               data_sum['Penicillin_yield_total (kg)'][data_sum['Process control']=='Recipes driven'],\n",
    "               data_sum['Penicillin_yield_total (kg)'][data_sum['Process control']=='Process deviations'])"
   ]
  },
  {
   "cell_type": "markdown",
   "metadata": {},
   "source": [
    "One way ANOVA test tells us that p value is less than 0.05 therefore we can reject null hypothesis that all types of process control have same impact on yield of Penicillin. And we can say that Advanced process control performs significantly better than other."
   ]
  },
  {
   "cell_type": "markdown",
   "metadata": {},
   "source": [
    "# Model development "
   ]
  },
  {
   "cell_type": "markdown",
   "metadata": {},
   "source": [
    "Let's try develop regression model for predicting Penicilling concentration. Firstly we need some preparation of data."
   ]
  },
  {
   "cell_type": "code",
   "execution_count": 26,
   "metadata": {
    "scrolled": true
   },
   "outputs": [
    {
     "data": {
      "text/html": [
       "<div>\n",
       "<style scoped>\n",
       "    .dataframe tbody tr th:only-of-type {\n",
       "        vertical-align: middle;\n",
       "    }\n",
       "\n",
       "    .dataframe tbody tr th {\n",
       "        vertical-align: top;\n",
       "    }\n",
       "\n",
       "    .dataframe thead th {\n",
       "        text-align: right;\n",
       "    }\n",
       "</style>\n",
       "<table border=\"1\" class=\"dataframe\">\n",
       "  <thead>\n",
       "    <tr style=\"text-align: right;\">\n",
       "      <th></th>\n",
       "      <th>Time</th>\n",
       "      <th>Batch_ref</th>\n",
       "      <th>Aeration rate(Fg:L/h)</th>\n",
       "      <th>Sugar feed rate(Fs:L/h)</th>\n",
       "      <th>Base flow rate(Fb:L/h)</th>\n",
       "      <th>Substrate concentration(S:g/L)</th>\n",
       "      <th>Dissolved oxygen concentration(DO2:mg/L)</th>\n",
       "      <th>Penicillin concentration(P:g/L)</th>\n",
       "      <th>Temperature(T:K)</th>\n",
       "      <th>Generated heat(Q:kJ)</th>\n",
       "      <th>...</th>\n",
       "      <th>PAA concentration offline(PAA_offline:PAA (g L^{-1}))</th>\n",
       "      <th>Oil flow(Foil:L/hr)</th>\n",
       "      <th>NH_3 concentration off-line(NH3_offline:NH3 (g L^{-1}))</th>\n",
       "      <th>Oxygen Uptake Rate(OUR:(g min^{-1}))</th>\n",
       "      <th>Oxygen in percent in off-gas(O2:O2  (%))</th>\n",
       "      <th>Offline Penicillin concentration(P_offline:P(g L^{-1}))</th>\n",
       "      <th>Offline Biomass concentratio(X_offline:X(g L^{-1}))</th>\n",
       "      <th>Carbon evolution rate(CER:g/h)</th>\n",
       "      <th>Viscosity(Viscosity_offline:centPoise)</th>\n",
       "      <th>Process control</th>\n",
       "    </tr>\n",
       "  </thead>\n",
       "  <tbody>\n",
       "    <tr>\n",
       "      <th>113930</th>\n",
       "      <td>229.2</td>\n",
       "      <td>100.0</td>\n",
       "      <td>65.0</td>\n",
       "      <td>80.0</td>\n",
       "      <td>12.9000</td>\n",
       "      <td>72.708</td>\n",
       "      <td>13.385</td>\n",
       "      <td>5.6567</td>\n",
       "      <td>297.89</td>\n",
       "      <td>215.09</td>\n",
       "      <td>...</td>\n",
       "      <td>NaN</td>\n",
       "      <td>23.0</td>\n",
       "      <td>NaN</td>\n",
       "      <td>0.32342</td>\n",
       "      <td>0.19996</td>\n",
       "      <td>NaN</td>\n",
       "      <td>NaN</td>\n",
       "      <td>0.99550</td>\n",
       "      <td>NaN</td>\n",
       "      <td>4</td>\n",
       "    </tr>\n",
       "    <tr>\n",
       "      <th>113931</th>\n",
       "      <td>229.4</td>\n",
       "      <td>100.0</td>\n",
       "      <td>65.0</td>\n",
       "      <td>80.0</td>\n",
       "      <td>10.0470</td>\n",
       "      <td>72.774</td>\n",
       "      <td>13.388</td>\n",
       "      <td>5.6490</td>\n",
       "      <td>298.07</td>\n",
       "      <td>278.39</td>\n",
       "      <td>...</td>\n",
       "      <td>NaN</td>\n",
       "      <td>23.0</td>\n",
       "      <td>NaN</td>\n",
       "      <td>0.31662</td>\n",
       "      <td>0.20002</td>\n",
       "      <td>NaN</td>\n",
       "      <td>NaN</td>\n",
       "      <td>0.99522</td>\n",
       "      <td>NaN</td>\n",
       "      <td>4</td>\n",
       "    </tr>\n",
       "    <tr>\n",
       "      <th>113932</th>\n",
       "      <td>229.6</td>\n",
       "      <td>100.0</td>\n",
       "      <td>65.0</td>\n",
       "      <td>80.0</td>\n",
       "      <td>7.3609</td>\n",
       "      <td>72.842</td>\n",
       "      <td>13.390</td>\n",
       "      <td>5.6414</td>\n",
       "      <td>297.98</td>\n",
       "      <td>246.05</td>\n",
       "      <td>...</td>\n",
       "      <td>NaN</td>\n",
       "      <td>23.0</td>\n",
       "      <td>NaN</td>\n",
       "      <td>0.31168</td>\n",
       "      <td>0.20006</td>\n",
       "      <td>NaN</td>\n",
       "      <td>NaN</td>\n",
       "      <td>0.99494</td>\n",
       "      <td>NaN</td>\n",
       "      <td>4</td>\n",
       "    </tr>\n",
       "    <tr>\n",
       "      <th>113933</th>\n",
       "      <td>229.8</td>\n",
       "      <td>100.0</td>\n",
       "      <td>65.0</td>\n",
       "      <td>80.0</td>\n",
       "      <td>6.2794</td>\n",
       "      <td>72.910</td>\n",
       "      <td>13.390</td>\n",
       "      <td>5.6339</td>\n",
       "      <td>297.88</td>\n",
       "      <td>212.63</td>\n",
       "      <td>...</td>\n",
       "      <td>NaN</td>\n",
       "      <td>23.0</td>\n",
       "      <td>NaN</td>\n",
       "      <td>0.31178</td>\n",
       "      <td>0.20006</td>\n",
       "      <td>NaN</td>\n",
       "      <td>NaN</td>\n",
       "      <td>0.99466</td>\n",
       "      <td>NaN</td>\n",
       "      <td>4</td>\n",
       "    </tr>\n",
       "    <tr>\n",
       "      <th>113934</th>\n",
       "      <td>230.0</td>\n",
       "      <td>100.0</td>\n",
       "      <td>65.0</td>\n",
       "      <td>80.0</td>\n",
       "      <td>7.3055</td>\n",
       "      <td>72.979</td>\n",
       "      <td>13.407</td>\n",
       "      <td>5.6263</td>\n",
       "      <td>297.98</td>\n",
       "      <td>246.79</td>\n",
       "      <td>...</td>\n",
       "      <td>8254.5</td>\n",
       "      <td>23.0</td>\n",
       "      <td>3755.6</td>\n",
       "      <td>0.30106</td>\n",
       "      <td>0.20015</td>\n",
       "      <td>5.6567</td>\n",
       "      <td>16.863</td>\n",
       "      <td>0.99438</td>\n",
       "      <td>117.93</td>\n",
       "      <td>4</td>\n",
       "    </tr>\n",
       "  </tbody>\n",
       "</table>\n",
       "<p>5 rows × 22 columns</p>\n",
       "</div>"
      ],
      "text/plain": [
       "         Time  Batch_ref  Aeration rate(Fg:L/h)  Sugar feed rate(Fs:L/h)  \\\n",
       "113930  229.2      100.0                   65.0                     80.0   \n",
       "113931  229.4      100.0                   65.0                     80.0   \n",
       "113932  229.6      100.0                   65.0                     80.0   \n",
       "113933  229.8      100.0                   65.0                     80.0   \n",
       "113934  230.0      100.0                   65.0                     80.0   \n",
       "\n",
       "        Base flow rate(Fb:L/h)  Substrate concentration(S:g/L)  \\\n",
       "113930                 12.9000                          72.708   \n",
       "113931                 10.0470                          72.774   \n",
       "113932                  7.3609                          72.842   \n",
       "113933                  6.2794                          72.910   \n",
       "113934                  7.3055                          72.979   \n",
       "\n",
       "        Dissolved oxygen concentration(DO2:mg/L)  \\\n",
       "113930                                    13.385   \n",
       "113931                                    13.388   \n",
       "113932                                    13.390   \n",
       "113933                                    13.390   \n",
       "113934                                    13.407   \n",
       "\n",
       "        Penicillin concentration(P:g/L)  Temperature(T:K)  \\\n",
       "113930                           5.6567            297.89   \n",
       "113931                           5.6490            298.07   \n",
       "113932                           5.6414            297.98   \n",
       "113933                           5.6339            297.88   \n",
       "113934                           5.6263            297.98   \n",
       "\n",
       "        Generated heat(Q:kJ)  ...  \\\n",
       "113930                215.09  ...   \n",
       "113931                278.39  ...   \n",
       "113932                246.05  ...   \n",
       "113933                212.63  ...   \n",
       "113934                246.79  ...   \n",
       "\n",
       "        PAA concentration offline(PAA_offline:PAA (g L^{-1}))  \\\n",
       "113930                                                NaN       \n",
       "113931                                                NaN       \n",
       "113932                                                NaN       \n",
       "113933                                                NaN       \n",
       "113934                                             8254.5       \n",
       "\n",
       "        Oil flow(Foil:L/hr)  \\\n",
       "113930                 23.0   \n",
       "113931                 23.0   \n",
       "113932                 23.0   \n",
       "113933                 23.0   \n",
       "113934                 23.0   \n",
       "\n",
       "        NH_3 concentration off-line(NH3_offline:NH3 (g L^{-1}))  \\\n",
       "113930                                                NaN         \n",
       "113931                                                NaN         \n",
       "113932                                                NaN         \n",
       "113933                                                NaN         \n",
       "113934                                             3755.6         \n",
       "\n",
       "        Oxygen Uptake Rate(OUR:(g min^{-1}))  \\\n",
       "113930                               0.32342   \n",
       "113931                               0.31662   \n",
       "113932                               0.31168   \n",
       "113933                               0.31178   \n",
       "113934                               0.30106   \n",
       "\n",
       "        Oxygen in percent in off-gas(O2:O2  (%))  \\\n",
       "113930                                   0.19996   \n",
       "113931                                   0.20002   \n",
       "113932                                   0.20006   \n",
       "113933                                   0.20006   \n",
       "113934                                   0.20015   \n",
       "\n",
       "        Offline Penicillin concentration(P_offline:P(g L^{-1}))  \\\n",
       "113930                                                NaN         \n",
       "113931                                                NaN         \n",
       "113932                                                NaN         \n",
       "113933                                                NaN         \n",
       "113934                                             5.6567         \n",
       "\n",
       "        Offline Biomass concentratio(X_offline:X(g L^{-1}))  \\\n",
       "113930                                                NaN     \n",
       "113931                                                NaN     \n",
       "113932                                                NaN     \n",
       "113933                                                NaN     \n",
       "113934                                             16.863     \n",
       "\n",
       "        Carbon evolution rate(CER:g/h)  \\\n",
       "113930                         0.99550   \n",
       "113931                         0.99522   \n",
       "113932                         0.99494   \n",
       "113933                         0.99466   \n",
       "113934                         0.99438   \n",
       "\n",
       "        Viscosity(Viscosity_offline:centPoise)  Process control  \n",
       "113930                                     NaN                4  \n",
       "113931                                     NaN                4  \n",
       "113932                                     NaN                4  \n",
       "113933                                     NaN                4  \n",
       "113934                                  117.93                4  \n",
       "\n",
       "[5 rows x 22 columns]"
      ]
     },
     "execution_count": 26,
     "metadata": {},
     "output_type": "execute_result"
    }
   ],
   "source": [
    "par = variable_data\n",
    "par = par[['Time','Batch_ref','Aeration rate(Fg:L/h)', 'Sugar feed rate(Fs:L/h)', 'Base flow rate(Fb:L/h)', \n",
    " 'Substrate concentration(S:g/L)',\n",
    " 'Dissolved oxygen concentration(DO2:mg/L)',\n",
    " 'Penicillin concentration(P:g/L)',\n",
    " 'Temperature(T:K)',\n",
    " 'Generated heat(Q:kJ)',\n",
    " 'carbon dioxide percent in off-gas(CO2outgas:%)',\n",
    " 'PAA flow(Fpaa:PAA flow (L/h))',\n",
    " 'PAA concentration offline(PAA_offline:PAA (g L^{-1}))',\n",
    " 'Oil flow(Foil:L/hr)',\n",
    " 'NH_3 concentration off-line(NH3_offline:NH3 (g L^{-1}))',\n",
    " 'Oxygen Uptake Rate(OUR:(g min^{-1}))',\n",
    " 'Oxygen in percent in off-gas(O2:O2  (%))',\n",
    " 'Offline Penicillin concentration(P_offline:P(g L^{-1}))',\n",
    " 'Offline Biomass concentratio(X_offline:X(g L^{-1}))',\n",
    " 'Carbon evolution rate(CER:g/h)',\n",
    " 'Viscosity(Viscosity_offline:centPoise)', 'Process control']]\n",
    "par.tail()\n"
   ]
  },
  {
   "cell_type": "code",
   "execution_count": 27,
   "metadata": {},
   "outputs": [
    {
     "name": "stdout",
     "output_type": "stream",
     "text": [
      "Time\n",
      "False    113935\n",
      "Name: Time, dtype: int64\n",
      "\n",
      "Batch_ref\n",
      "False    113935\n",
      "Name: Batch_ref, dtype: int64\n",
      "\n",
      "Aeration rate(Fg:L/h)\n",
      "False    113935\n",
      "Name: Aeration rate(Fg:L/h), dtype: int64\n",
      "\n",
      "Sugar feed rate(Fs:L/h)\n",
      "False    113935\n",
      "Name: Sugar feed rate(Fs:L/h), dtype: int64\n",
      "\n",
      "Base flow rate(Fb:L/h)\n",
      "False    113935\n",
      "Name: Base flow rate(Fb:L/h), dtype: int64\n",
      "\n",
      "Substrate concentration(S:g/L)\n",
      "False    113935\n",
      "Name: Substrate concentration(S:g/L), dtype: int64\n",
      "\n",
      "Dissolved oxygen concentration(DO2:mg/L)\n",
      "False    113935\n",
      "Name: Dissolved oxygen concentration(DO2:mg/L), dtype: int64\n",
      "\n",
      "Penicillin concentration(P:g/L)\n",
      "False    113935\n",
      "Name: Penicillin concentration(P:g/L), dtype: int64\n",
      "\n",
      "Temperature(T:K)\n",
      "False    113935\n",
      "Name: Temperature(T:K), dtype: int64\n",
      "\n",
      "Generated heat(Q:kJ)\n",
      "False    113935\n",
      "Name: Generated heat(Q:kJ), dtype: int64\n",
      "\n",
      "carbon dioxide percent in off-gas(CO2outgas:%)\n",
      "False    113935\n",
      "Name: carbon dioxide percent in off-gas(CO2outgas:%), dtype: int64\n",
      "\n",
      "PAA flow(Fpaa:PAA flow (L/h))\n",
      "False    113935\n",
      "Name: PAA flow(Fpaa:PAA flow (L/h)), dtype: int64\n",
      "\n",
      "PAA concentration offline(PAA_offline:PAA (g L^{-1}))\n",
      "True     111873\n",
      "False      2062\n",
      "Name: PAA concentration offline(PAA_offline:PAA (g L^{-1})), dtype: int64\n",
      "\n",
      "Oil flow(Foil:L/hr)\n",
      "False    113935\n",
      "Name: Oil flow(Foil:L/hr), dtype: int64\n",
      "\n",
      "NH_3 concentration off-line(NH3_offline:NH3 (g L^{-1}))\n",
      "True     111873\n",
      "False      2062\n",
      "Name: NH_3 concentration off-line(NH3_offline:NH3 (g L^{-1})), dtype: int64\n",
      "\n",
      "Oxygen Uptake Rate(OUR:(g min^{-1}))\n",
      "False    113935\n",
      "Name: Oxygen Uptake Rate(OUR:(g min^{-1})), dtype: int64\n",
      "\n",
      "Oxygen in percent in off-gas(O2:O2  (%))\n",
      "False    113935\n",
      "Name: Oxygen in percent in off-gas(O2:O2  (%)), dtype: int64\n",
      "\n",
      "Offline Penicillin concentration(P_offline:P(g L^{-1}))\n",
      "True     111873\n",
      "False      2062\n",
      "Name: Offline Penicillin concentration(P_offline:P(g L^{-1})), dtype: int64\n",
      "\n",
      "Offline Biomass concentratio(X_offline:X(g L^{-1}))\n",
      "True     111873\n",
      "False      2062\n",
      "Name: Offline Biomass concentratio(X_offline:X(g L^{-1})), dtype: int64\n",
      "\n",
      "Carbon evolution rate(CER:g/h)\n",
      "False    113935\n",
      "Name: Carbon evolution rate(CER:g/h), dtype: int64\n",
      "\n",
      "Viscosity(Viscosity_offline:centPoise)\n",
      "True     111873\n",
      "False      2062\n",
      "Name: Viscosity(Viscosity_offline:centPoise), dtype: int64\n",
      "\n",
      "Process control\n",
      "False    113935\n",
      "Name: Process control, dtype: int64\n",
      "\n"
     ]
    }
   ],
   "source": [
    "missing_data = par.isnull()\n",
    "for column in missing_data.columns.values.tolist():\n",
    "    print(column)\n",
    "    print (missing_data[column].value_counts())\n",
    "    print(\"\")"
   ]
  },
  {
   "cell_type": "code",
   "execution_count": 28,
   "metadata": {},
   "outputs": [],
   "source": [
    "del par['Viscosity(Viscosity_offline:centPoise)']\n",
    "del par['Offline Biomass concentratio(X_offline:X(g L^{-1}))']\n",
    "del par['Offline Penicillin concentration(P_offline:P(g L^{-1}))']\n",
    "del par['NH_3 concentration off-line(NH3_offline:NH3 (g L^{-1}))']\n",
    "del par['PAA concentration offline(PAA_offline:PAA (g L^{-1}))']\n"
   ]
  },
  {
   "cell_type": "markdown",
   "metadata": {},
   "source": [
    "Creating pivot table and correlation matrix:"
   ]
  },
  {
   "cell_type": "code",
   "execution_count": 29,
   "metadata": {},
   "outputs": [],
   "source": [
    "piv = par.pivot(index='Time', columns = 'Batch_ref')"
   ]
  },
  {
   "cell_type": "code",
   "execution_count": 30,
   "metadata": {},
   "outputs": [
    {
     "data": {
      "text/html": [
       "<div>\n",
       "<style scoped>\n",
       "    .dataframe tbody tr th:only-of-type {\n",
       "        vertical-align: middle;\n",
       "    }\n",
       "\n",
       "    .dataframe tbody tr th {\n",
       "        vertical-align: top;\n",
       "    }\n",
       "\n",
       "    .dataframe thead tr th {\n",
       "        text-align: left;\n",
       "    }\n",
       "\n",
       "    .dataframe thead tr:last-of-type th {\n",
       "        text-align: right;\n",
       "    }\n",
       "</style>\n",
       "<table border=\"1\" class=\"dataframe\">\n",
       "  <thead>\n",
       "    <tr>\n",
       "      <th></th>\n",
       "      <th></th>\n",
       "      <th colspan=\"10\" halign=\"left\">Aeration rate(Fg:L/h)</th>\n",
       "      <th>...</th>\n",
       "      <th colspan=\"10\" halign=\"left\">Carbon evolution rate(CER:g/h)</th>\n",
       "    </tr>\n",
       "    <tr>\n",
       "      <th></th>\n",
       "      <th>Batch_ref</th>\n",
       "      <th>1.0</th>\n",
       "      <th>2.0</th>\n",
       "      <th>3.0</th>\n",
       "      <th>4.0</th>\n",
       "      <th>5.0</th>\n",
       "      <th>6.0</th>\n",
       "      <th>7.0</th>\n",
       "      <th>8.0</th>\n",
       "      <th>9.0</th>\n",
       "      <th>10.0</th>\n",
       "      <th>...</th>\n",
       "      <th>91.0</th>\n",
       "      <th>92.0</th>\n",
       "      <th>93.0</th>\n",
       "      <th>94.0</th>\n",
       "      <th>95.0</th>\n",
       "      <th>96.0</th>\n",
       "      <th>97.0</th>\n",
       "      <th>98.0</th>\n",
       "      <th>99.0</th>\n",
       "      <th>100.0</th>\n",
       "    </tr>\n",
       "    <tr>\n",
       "      <th></th>\n",
       "      <th>Batch_ref</th>\n",
       "      <th></th>\n",
       "      <th></th>\n",
       "      <th></th>\n",
       "      <th></th>\n",
       "      <th></th>\n",
       "      <th></th>\n",
       "      <th></th>\n",
       "      <th></th>\n",
       "      <th></th>\n",
       "      <th></th>\n",
       "      <th></th>\n",
       "      <th></th>\n",
       "      <th></th>\n",
       "      <th></th>\n",
       "      <th></th>\n",
       "      <th></th>\n",
       "      <th></th>\n",
       "      <th></th>\n",
       "      <th></th>\n",
       "      <th></th>\n",
       "      <th></th>\n",
       "    </tr>\n",
       "  </thead>\n",
       "  <tbody>\n",
       "    <tr>\n",
       "      <th rowspan=\"5\" valign=\"top\">Aeration rate(Fg:L/h)</th>\n",
       "      <th>1.0</th>\n",
       "      <td>1.000000</td>\n",
       "      <td>1.000000</td>\n",
       "      <td>1.000000</td>\n",
       "      <td>1.000000</td>\n",
       "      <td>1.000000</td>\n",
       "      <td>1.000000</td>\n",
       "      <td>1.000000</td>\n",
       "      <td>1.000000</td>\n",
       "      <td>1.000000</td>\n",
       "      <td>1.000000</td>\n",
       "      <td>...</td>\n",
       "      <td>0.712591</td>\n",
       "      <td>0.924669</td>\n",
       "      <td>0.928057</td>\n",
       "      <td>0.803351</td>\n",
       "      <td>0.755121</td>\n",
       "      <td>0.928778</td>\n",
       "      <td>0.928081</td>\n",
       "      <td>0.918111</td>\n",
       "      <td>0.800006</td>\n",
       "      <td>0.831078</td>\n",
       "    </tr>\n",
       "    <tr>\n",
       "      <th>2.0</th>\n",
       "      <td>1.000000</td>\n",
       "      <td>1.000000</td>\n",
       "      <td>1.000000</td>\n",
       "      <td>1.000000</td>\n",
       "      <td>1.000000</td>\n",
       "      <td>1.000000</td>\n",
       "      <td>1.000000</td>\n",
       "      <td>1.000000</td>\n",
       "      <td>1.000000</td>\n",
       "      <td>1.000000</td>\n",
       "      <td>...</td>\n",
       "      <td>0.709897</td>\n",
       "      <td>0.924155</td>\n",
       "      <td>0.928057</td>\n",
       "      <td>0.801003</td>\n",
       "      <td>0.755121</td>\n",
       "      <td>0.928346</td>\n",
       "      <td>0.928081</td>\n",
       "      <td>0.918106</td>\n",
       "      <td>0.797569</td>\n",
       "      <td>0.829602</td>\n",
       "    </tr>\n",
       "    <tr>\n",
       "      <th>3.0</th>\n",
       "      <td>1.000000</td>\n",
       "      <td>1.000000</td>\n",
       "      <td>1.000000</td>\n",
       "      <td>1.000000</td>\n",
       "      <td>1.000000</td>\n",
       "      <td>1.000000</td>\n",
       "      <td>1.000000</td>\n",
       "      <td>1.000000</td>\n",
       "      <td>1.000000</td>\n",
       "      <td>1.000000</td>\n",
       "      <td>...</td>\n",
       "      <td>0.690555</td>\n",
       "      <td>0.924155</td>\n",
       "      <td>0.928057</td>\n",
       "      <td>0.801003</td>\n",
       "      <td>0.755121</td>\n",
       "      <td>0.928346</td>\n",
       "      <td>0.928081</td>\n",
       "      <td>0.918106</td>\n",
       "      <td>0.777114</td>\n",
       "      <td>0.829602</td>\n",
       "    </tr>\n",
       "    <tr>\n",
       "      <th>4.0</th>\n",
       "      <td>1.000000</td>\n",
       "      <td>1.000000</td>\n",
       "      <td>1.000000</td>\n",
       "      <td>1.000000</td>\n",
       "      <td>1.000000</td>\n",
       "      <td>1.000000</td>\n",
       "      <td>1.000000</td>\n",
       "      <td>1.000000</td>\n",
       "      <td>1.000000</td>\n",
       "      <td>1.000000</td>\n",
       "      <td>...</td>\n",
       "      <td>0.709897</td>\n",
       "      <td>0.924155</td>\n",
       "      <td>0.928057</td>\n",
       "      <td>0.801003</td>\n",
       "      <td>0.755121</td>\n",
       "      <td>0.928346</td>\n",
       "      <td>0.928081</td>\n",
       "      <td>0.918106</td>\n",
       "      <td>0.797569</td>\n",
       "      <td>0.829602</td>\n",
       "    </tr>\n",
       "    <tr>\n",
       "      <th>5.0</th>\n",
       "      <td>1.000000</td>\n",
       "      <td>1.000000</td>\n",
       "      <td>1.000000</td>\n",
       "      <td>1.000000</td>\n",
       "      <td>1.000000</td>\n",
       "      <td>1.000000</td>\n",
       "      <td>1.000000</td>\n",
       "      <td>1.000000</td>\n",
       "      <td>1.000000</td>\n",
       "      <td>1.000000</td>\n",
       "      <td>...</td>\n",
       "      <td>0.784878</td>\n",
       "      <td>0.939310</td>\n",
       "      <td>0.936874</td>\n",
       "      <td>0.863080</td>\n",
       "      <td>0.817068</td>\n",
       "      <td>0.939449</td>\n",
       "      <td>0.932085</td>\n",
       "      <td>0.929449</td>\n",
       "      <td>0.861390</td>\n",
       "      <td>0.876269</td>\n",
       "    </tr>\n",
       "    <tr>\n",
       "      <th>...</th>\n",
       "      <th>...</th>\n",
       "      <td>...</td>\n",
       "      <td>...</td>\n",
       "      <td>...</td>\n",
       "      <td>...</td>\n",
       "      <td>...</td>\n",
       "      <td>...</td>\n",
       "      <td>...</td>\n",
       "      <td>...</td>\n",
       "      <td>...</td>\n",
       "      <td>...</td>\n",
       "      <td>...</td>\n",
       "      <td>...</td>\n",
       "      <td>...</td>\n",
       "      <td>...</td>\n",
       "      <td>...</td>\n",
       "      <td>...</td>\n",
       "      <td>...</td>\n",
       "      <td>...</td>\n",
       "      <td>...</td>\n",
       "      <td>...</td>\n",
       "      <td>...</td>\n",
       "    </tr>\n",
       "    <tr>\n",
       "      <th rowspan=\"5\" valign=\"top\">Carbon evolution rate(CER:g/h)</th>\n",
       "      <th>96.0</th>\n",
       "      <td>0.928778</td>\n",
       "      <td>0.928346</td>\n",
       "      <td>0.928346</td>\n",
       "      <td>0.928346</td>\n",
       "      <td>0.939449</td>\n",
       "      <td>0.928346</td>\n",
       "      <td>0.928346</td>\n",
       "      <td>0.928346</td>\n",
       "      <td>0.928346</td>\n",
       "      <td>0.928346</td>\n",
       "      <td>...</td>\n",
       "      <td>0.873831</td>\n",
       "      <td>0.998562</td>\n",
       "      <td>0.998305</td>\n",
       "      <td>0.928024</td>\n",
       "      <td>0.899342</td>\n",
       "      <td>1.000000</td>\n",
       "      <td>0.981241</td>\n",
       "      <td>0.995880</td>\n",
       "      <td>0.927178</td>\n",
       "      <td>0.950423</td>\n",
       "    </tr>\n",
       "    <tr>\n",
       "      <th>97.0</th>\n",
       "      <td>0.928081</td>\n",
       "      <td>0.928081</td>\n",
       "      <td>0.928081</td>\n",
       "      <td>0.928081</td>\n",
       "      <td>0.932085</td>\n",
       "      <td>0.928081</td>\n",
       "      <td>0.928081</td>\n",
       "      <td>0.928081</td>\n",
       "      <td>0.928081</td>\n",
       "      <td>0.928081</td>\n",
       "      <td>...</td>\n",
       "      <td>0.783339</td>\n",
       "      <td>0.981332</td>\n",
       "      <td>0.986215</td>\n",
       "      <td>0.847176</td>\n",
       "      <td>0.815961</td>\n",
       "      <td>0.981241</td>\n",
       "      <td>1.000000</td>\n",
       "      <td>0.972442</td>\n",
       "      <td>0.847036</td>\n",
       "      <td>0.882022</td>\n",
       "    </tr>\n",
       "    <tr>\n",
       "      <th>98.0</th>\n",
       "      <td>0.918111</td>\n",
       "      <td>0.918106</td>\n",
       "      <td>0.918106</td>\n",
       "      <td>0.918106</td>\n",
       "      <td>0.929449</td>\n",
       "      <td>0.918106</td>\n",
       "      <td>0.918106</td>\n",
       "      <td>0.918106</td>\n",
       "      <td>0.918106</td>\n",
       "      <td>0.918106</td>\n",
       "      <td>...</td>\n",
       "      <td>0.879828</td>\n",
       "      <td>0.993677</td>\n",
       "      <td>0.997178</td>\n",
       "      <td>0.931947</td>\n",
       "      <td>0.914412</td>\n",
       "      <td>0.995880</td>\n",
       "      <td>0.972442</td>\n",
       "      <td>1.000000</td>\n",
       "      <td>0.931203</td>\n",
       "      <td>0.955541</td>\n",
       "    </tr>\n",
       "    <tr>\n",
       "      <th>99.0</th>\n",
       "      <td>0.800006</td>\n",
       "      <td>0.797569</td>\n",
       "      <td>0.777114</td>\n",
       "      <td>0.797569</td>\n",
       "      <td>0.861390</td>\n",
       "      <td>0.797569</td>\n",
       "      <td>0.795870</td>\n",
       "      <td>0.797569</td>\n",
       "      <td>0.777114</td>\n",
       "      <td>0.797569</td>\n",
       "      <td>...</td>\n",
       "      <td>0.983619</td>\n",
       "      <td>0.928708</td>\n",
       "      <td>0.922794</td>\n",
       "      <td>0.999664</td>\n",
       "      <td>0.990194</td>\n",
       "      <td>0.927178</td>\n",
       "      <td>0.847036</td>\n",
       "      <td>0.931203</td>\n",
       "      <td>1.000000</td>\n",
       "      <td>0.996389</td>\n",
       "    </tr>\n",
       "    <tr>\n",
       "      <th>100.0</th>\n",
       "      <td>0.831078</td>\n",
       "      <td>0.829602</td>\n",
       "      <td>0.829602</td>\n",
       "      <td>0.829602</td>\n",
       "      <td>0.876269</td>\n",
       "      <td>0.829602</td>\n",
       "      <td>0.829602</td>\n",
       "      <td>0.829602</td>\n",
       "      <td>0.829602</td>\n",
       "      <td>0.829602</td>\n",
       "      <td>...</td>\n",
       "      <td>0.971296</td>\n",
       "      <td>0.951941</td>\n",
       "      <td>0.945482</td>\n",
       "      <td>0.995847</td>\n",
       "      <td>0.982149</td>\n",
       "      <td>0.950423</td>\n",
       "      <td>0.882022</td>\n",
       "      <td>0.955541</td>\n",
       "      <td>0.996389</td>\n",
       "      <td>1.000000</td>\n",
       "    </tr>\n",
       "  </tbody>\n",
       "</table>\n",
       "<p>1400 rows × 1400 columns</p>\n",
       "</div>"
      ],
      "text/plain": [
       "                                         Aeration rate(Fg:L/h)            \\\n",
       "Batch_ref                                                1.0       2.0     \n",
       "                               Batch_ref                                   \n",
       "Aeration rate(Fg:L/h)          1.0                    1.000000  1.000000   \n",
       "                               2.0                    1.000000  1.000000   \n",
       "                               3.0                    1.000000  1.000000   \n",
       "                               4.0                    1.000000  1.000000   \n",
       "                               5.0                    1.000000  1.000000   \n",
       "...                                                        ...       ...   \n",
       "Carbon evolution rate(CER:g/h) 96.0                   0.928778  0.928346   \n",
       "                               97.0                   0.928081  0.928081   \n",
       "                               98.0                   0.918111  0.918106   \n",
       "                               99.0                   0.800006  0.797569   \n",
       "                               100.0                  0.831078  0.829602   \n",
       "\n",
       "                                                                        \\\n",
       "Batch_ref                                    3.0       4.0       5.0     \n",
       "                               Batch_ref                                 \n",
       "Aeration rate(Fg:L/h)          1.0        1.000000  1.000000  1.000000   \n",
       "                               2.0        1.000000  1.000000  1.000000   \n",
       "                               3.0        1.000000  1.000000  1.000000   \n",
       "                               4.0        1.000000  1.000000  1.000000   \n",
       "                               5.0        1.000000  1.000000  1.000000   \n",
       "...                                            ...       ...       ...   \n",
       "Carbon evolution rate(CER:g/h) 96.0       0.928346  0.928346  0.939449   \n",
       "                               97.0       0.928081  0.928081  0.932085   \n",
       "                               98.0       0.918106  0.918106  0.929449   \n",
       "                               99.0       0.777114  0.797569  0.861390   \n",
       "                               100.0      0.829602  0.829602  0.876269   \n",
       "\n",
       "                                                                        \\\n",
       "Batch_ref                                    6.0       7.0       8.0     \n",
       "                               Batch_ref                                 \n",
       "Aeration rate(Fg:L/h)          1.0        1.000000  1.000000  1.000000   \n",
       "                               2.0        1.000000  1.000000  1.000000   \n",
       "                               3.0        1.000000  1.000000  1.000000   \n",
       "                               4.0        1.000000  1.000000  1.000000   \n",
       "                               5.0        1.000000  1.000000  1.000000   \n",
       "...                                            ...       ...       ...   \n",
       "Carbon evolution rate(CER:g/h) 96.0       0.928346  0.928346  0.928346   \n",
       "                               97.0       0.928081  0.928081  0.928081   \n",
       "                               98.0       0.918106  0.918106  0.918106   \n",
       "                               99.0       0.797569  0.795870  0.797569   \n",
       "                               100.0      0.829602  0.829602  0.829602   \n",
       "\n",
       "                                                              ...  \\\n",
       "Batch_ref                                    9.0       10.0   ...   \n",
       "                               Batch_ref                      ...   \n",
       "Aeration rate(Fg:L/h)          1.0        1.000000  1.000000  ...   \n",
       "                               2.0        1.000000  1.000000  ...   \n",
       "                               3.0        1.000000  1.000000  ...   \n",
       "                               4.0        1.000000  1.000000  ...   \n",
       "                               5.0        1.000000  1.000000  ...   \n",
       "...                                            ...       ...  ...   \n",
       "Carbon evolution rate(CER:g/h) 96.0       0.928346  0.928346  ...   \n",
       "                               97.0       0.928081  0.928081  ...   \n",
       "                               98.0       0.918106  0.918106  ...   \n",
       "                               99.0       0.777114  0.797569  ...   \n",
       "                               100.0      0.829602  0.829602  ...   \n",
       "\n",
       "                                         Carbon evolution rate(CER:g/h)  \\\n",
       "Batch_ref                                                         91.0    \n",
       "                               Batch_ref                                  \n",
       "Aeration rate(Fg:L/h)          1.0                             0.712591   \n",
       "                               2.0                             0.709897   \n",
       "                               3.0                             0.690555   \n",
       "                               4.0                             0.709897   \n",
       "                               5.0                             0.784878   \n",
       "...                                                                 ...   \n",
       "Carbon evolution rate(CER:g/h) 96.0                            0.873831   \n",
       "                               97.0                            0.783339   \n",
       "                               98.0                            0.879828   \n",
       "                               99.0                            0.983619   \n",
       "                               100.0                           0.971296   \n",
       "\n",
       "                                                                        \\\n",
       "Batch_ref                                    92.0      93.0      94.0    \n",
       "                               Batch_ref                                 \n",
       "Aeration rate(Fg:L/h)          1.0        0.924669  0.928057  0.803351   \n",
       "                               2.0        0.924155  0.928057  0.801003   \n",
       "                               3.0        0.924155  0.928057  0.801003   \n",
       "                               4.0        0.924155  0.928057  0.801003   \n",
       "                               5.0        0.939310  0.936874  0.863080   \n",
       "...                                            ...       ...       ...   \n",
       "Carbon evolution rate(CER:g/h) 96.0       0.998562  0.998305  0.928024   \n",
       "                               97.0       0.981332  0.986215  0.847176   \n",
       "                               98.0       0.993677  0.997178  0.931947   \n",
       "                               99.0       0.928708  0.922794  0.999664   \n",
       "                               100.0      0.951941  0.945482  0.995847   \n",
       "\n",
       "                                                                        \\\n",
       "Batch_ref                                    95.0      96.0      97.0    \n",
       "                               Batch_ref                                 \n",
       "Aeration rate(Fg:L/h)          1.0        0.755121  0.928778  0.928081   \n",
       "                               2.0        0.755121  0.928346  0.928081   \n",
       "                               3.0        0.755121  0.928346  0.928081   \n",
       "                               4.0        0.755121  0.928346  0.928081   \n",
       "                               5.0        0.817068  0.939449  0.932085   \n",
       "...                                            ...       ...       ...   \n",
       "Carbon evolution rate(CER:g/h) 96.0       0.899342  1.000000  0.981241   \n",
       "                               97.0       0.815961  0.981241  1.000000   \n",
       "                               98.0       0.914412  0.995880  0.972442   \n",
       "                               99.0       0.990194  0.927178  0.847036   \n",
       "                               100.0      0.982149  0.950423  0.882022   \n",
       "\n",
       "                                                                        \n",
       "Batch_ref                                    98.0      99.0      100.0  \n",
       "                               Batch_ref                                \n",
       "Aeration rate(Fg:L/h)          1.0        0.918111  0.800006  0.831078  \n",
       "                               2.0        0.918106  0.797569  0.829602  \n",
       "                               3.0        0.918106  0.777114  0.829602  \n",
       "                               4.0        0.918106  0.797569  0.829602  \n",
       "                               5.0        0.929449  0.861390  0.876269  \n",
       "...                                            ...       ...       ...  \n",
       "Carbon evolution rate(CER:g/h) 96.0       0.995880  0.927178  0.950423  \n",
       "                               97.0       0.972442  0.847036  0.882022  \n",
       "                               98.0       1.000000  0.931203  0.955541  \n",
       "                               99.0       0.931203  1.000000  0.996389  \n",
       "                               100.0      0.955541  0.996389  1.000000  \n",
       "\n",
       "[1400 rows x 1400 columns]"
      ]
     },
     "execution_count": 30,
     "metadata": {},
     "output_type": "execute_result"
    }
   ],
   "source": [
    "piv.corr()"
   ]
  },
  {
   "cell_type": "code",
   "execution_count": 31,
   "metadata": {},
   "outputs": [],
   "source": [
    "from scipy import stats"
   ]
  },
  {
   "cell_type": "markdown",
   "metadata": {},
   "source": [
    "Identifying parameters correlated with Penicillin concentration. If p-value is less than 0.001 we can say there is strong evidence that the correlation is statistically significant. "
   ]
  },
  {
   "cell_type": "code",
   "execution_count": 32,
   "metadata": {},
   "outputs": [
    {
     "name": "stdout",
     "output_type": "stream",
     "text": [
      "The Pearson Correlation Coefficient is 0.7113451891959506  with a P-value of P = 0.0\n"
     ]
    }
   ],
   "source": [
    "pearson_coef, p_value = stats.pearsonr(par['Aeration rate(Fg:L/h)'], par['Penicillin concentration(P:g/L)'])\n",
    "print(\"The Pearson Correlation Coefficient is\", pearson_coef, \" with a P-value of P =\", p_value)"
   ]
  },
  {
   "cell_type": "code",
   "execution_count": 33,
   "metadata": {},
   "outputs": [
    {
     "name": "stdout",
     "output_type": "stream",
     "text": [
      "The Pearson Correlation Coefficient is 0.6189008333419701  with a P-value of P = 0.0\n"
     ]
    }
   ],
   "source": [
    "pearson_coef, p_value = stats.pearsonr(par['carbon dioxide percent in off-gas(CO2outgas:%)'], par['Penicillin concentration(P:g/L)'])\n",
    "print(\"The Pearson Correlation Coefficient is\", pearson_coef, \" with a P-value of P =\", p_value)"
   ]
  },
  {
   "cell_type": "code",
   "execution_count": 34,
   "metadata": {},
   "outputs": [
    {
     "name": "stdout",
     "output_type": "stream",
     "text": [
      "The Pearson Correlation Coefficient is -0.7520671248383757  with a P-value of P = 0.0\n"
     ]
    }
   ],
   "source": [
    "pearson_coef, p_value = stats.pearsonr(par['Oil flow(Foil:L/hr)'], par['Penicillin concentration(P:g/L)'])\n",
    "print(\"The Pearson Correlation Coefficient is\", pearson_coef, \" with a P-value of P =\", p_value)\n",
    "\n"
   ]
  },
  {
   "cell_type": "code",
   "execution_count": 35,
   "metadata": {},
   "outputs": [
    {
     "name": "stdout",
     "output_type": "stream",
     "text": [
      "The Pearson Correlation Coefficient is -0.3295678092930453  with a P-value of P = 0.0\n"
     ]
    }
   ],
   "source": [
    "pearson_coef, p_value = stats.pearsonr(par['Dissolved oxygen concentration(DO2:mg/L)'], par['Penicillin concentration(P:g/L)'])\n",
    "print(\"The Pearson Correlation Coefficient is\", pearson_coef, \" with a P-value of P =\", p_value)"
   ]
  },
  {
   "cell_type": "code",
   "execution_count": 36,
   "metadata": {},
   "outputs": [
    {
     "name": "stdout",
     "output_type": "stream",
     "text": [
      "The Pearson Correlation Coefficient is 0.4697406906075524  with a P-value of P = 0.0\n"
     ]
    }
   ],
   "source": [
    "pearson_coef, p_value = stats.pearsonr(par['Sugar feed rate(Fs:L/h)'], par['Penicillin concentration(P:g/L)'])\n",
    "print(\"The Pearson Correlation Coefficient is\", pearson_coef, \" with a P-value of P =\", p_value)"
   ]
  },
  {
   "cell_type": "markdown",
   "metadata": {},
   "source": [
    "Setting up Multiple Linear Regression model:"
   ]
  },
  {
   "cell_type": "code",
   "execution_count": 37,
   "metadata": {},
   "outputs": [
    {
     "data": {
      "text/plain": [
       "LinearRegression(copy_X=True, fit_intercept=True, n_jobs=None, normalize=False)"
      ]
     },
     "execution_count": 37,
     "metadata": {},
     "output_type": "execute_result"
    }
   ],
   "source": [
    "from sklearn.linear_model import LinearRegression\n",
    "lm = LinearRegression()\n",
    "lm"
   ]
  },
  {
   "cell_type": "code",
   "execution_count": 38,
   "metadata": {},
   "outputs": [
    {
     "data": {
      "text/plain": [
       "LinearRegression(copy_X=True, fit_intercept=True, n_jobs=None, normalize=False)"
      ]
     },
     "execution_count": 38,
     "metadata": {},
     "output_type": "execute_result"
    }
   ],
   "source": [
    "Z = par[['Aeration rate(Fg:L/h)', 'carbon dioxide percent in off-gas(CO2outgas:%)', 'Oil flow(Foil:L/hr)', 'Dissolved oxygen concentration(DO2:mg/L)', 'Temperature(T:K)', 'Sugar feed rate(Fs:L/h)']]\n",
    "lm.fit(Z, par['Penicillin concentration(P:g/L)'])"
   ]
  },
  {
   "cell_type": "code",
   "execution_count": 39,
   "metadata": {},
   "outputs": [
    {
     "data": {
      "text/plain": [
       "907.0878386633913"
      ]
     },
     "execution_count": 39,
     "metadata": {},
     "output_type": "execute_result"
    }
   ],
   "source": [
    "lm.intercept_"
   ]
  },
  {
   "cell_type": "code",
   "execution_count": 40,
   "metadata": {},
   "outputs": [
    {
     "data": {
      "text/plain": [
       "array([ 0.19831016,  4.3265132 , -0.98558915, -1.55380329, -2.90286346,\n",
       "       -0.01704311])"
      ]
     },
     "execution_count": 40,
     "metadata": {},
     "output_type": "execute_result"
    }
   ],
   "source": [
    "lm.coef_"
   ]
  },
  {
   "cell_type": "markdown",
   "metadata": {},
   "source": [
    "Linear function we get:\n",
    "Penicillin concentration = 907.087 + 0.198*Aeration rate +4.327*carbon dioxide percent in off-gas - ).0.986*Oil Flow - 1.55*Dissolved oxygen concentration - 2.903*Temperature - 0.017*Sugar Feed Rate"
   ]
  },
  {
   "cell_type": "code",
   "execution_count": 41,
   "metadata": {},
   "outputs": [],
   "source": [
    "import seaborn as sns\n",
    "%matplotlib inline"
   ]
  },
  {
   "cell_type": "code",
   "execution_count": 42,
   "metadata": {},
   "outputs": [],
   "source": [
    "Y_hat = lm.predict(Z)"
   ]
  },
  {
   "cell_type": "code",
   "execution_count": 44,
   "metadata": {},
   "outputs": [
    {
     "data": {
      "text/plain": [
       "0.7430168816149273"
      ]
     },
     "execution_count": 44,
     "metadata": {},
     "output_type": "execute_result"
    }
   ],
   "source": [
    "# fit the model \n",
    "lm.fit(Z, par['Penicillin concentration(P:g/L)'])\n",
    "# Find the R^2\n",
    "lm.score(Z, par['Penicillin concentration(P:g/L)'])"
   ]
  },
  {
   "cell_type": "code",
   "execution_count": 45,
   "metadata": {},
   "outputs": [],
   "source": [
    "Y_predict_multifit = lm.predict(Z)"
   ]
  },
  {
   "cell_type": "code",
   "execution_count": 46,
   "metadata": {},
   "outputs": [
    {
     "data": {
      "text/plain": [
       "25.352094552183765"
      ]
     },
     "execution_count": 46,
     "metadata": {},
     "output_type": "execute_result"
    }
   ],
   "source": [
    "from sklearn.metrics import mean_squared_error\n",
    "mean_squared_error(par['Penicillin concentration(P:g/L)'], Y_predict_multifit)"
   ]
  },
  {
   "cell_type": "markdown",
   "metadata": {},
   "source": [
    "R^2 of the model is 74% and mean squared error equals 25.35. There is still room for improvement."
   ]
  },
  {
   "cell_type": "code",
   "execution_count": 50,
   "metadata": {},
   "outputs": [
    {
     "name": "stderr",
     "output_type": "stream",
     "text": [
      "C:\\Users\\klime\\anaconda3\\lib\\site-packages\\IPython\\html.py:14: ShimWarning: The `IPython.html` package has been deprecated since IPython 4.0. You should import from `notebook` instead. `IPython.html.widgets` has moved to `ipywidgets`.\n",
      "  \"`IPython.html.widgets` has moved to `ipywidgets`.\", ShimWarning)\n"
     ]
    }
   ],
   "source": [
    "from IPython.display import display\n",
    "from IPython.html import widgets \n",
    "from IPython.display import display\n",
    "from ipywidgets import interact, interactive, fixed, interact_manual"
   ]
  },
  {
   "cell_type": "markdown",
   "metadata": {},
   "source": [
    "Linear model evaluation:"
   ]
  },
  {
   "cell_type": "code",
   "execution_count": 51,
   "metadata": {},
   "outputs": [],
   "source": [
    "y_data=par['Penicillin concentration(P:g/L)']"
   ]
  },
  {
   "cell_type": "code",
   "execution_count": 52,
   "metadata": {},
   "outputs": [],
   "source": [
    "x_data=par.drop('Penicillin concentration(P:g/L)',axis=1)"
   ]
  },
  {
   "cell_type": "code",
   "execution_count": 53,
   "metadata": {},
   "outputs": [
    {
     "name": "stdout",
     "output_type": "stream",
     "text": [
      "number of test samples : 17091\n",
      "number of training samples: 96844\n"
     ]
    }
   ],
   "source": [
    "from sklearn.model_selection import train_test_split\n",
    "\n",
    "\n",
    "x_train, x_test, y_train, y_test = train_test_split(x_data, y_data, test_size=0.15, random_state=1)\n",
    "\n",
    "\n",
    "print(\"number of test samples :\", x_test.shape[0])\n",
    "print(\"number of training samples:\",x_train.shape[0])"
   ]
  },
  {
   "cell_type": "code",
   "execution_count": 54,
   "metadata": {},
   "outputs": [
    {
     "data": {
      "text/plain": [
       "LinearRegression(copy_X=True, fit_intercept=True, n_jobs=None, normalize=False)"
      ]
     },
     "execution_count": 54,
     "metadata": {},
     "output_type": "execute_result"
    }
   ],
   "source": [
    "lr=LinearRegression()\n",
    "lr.fit(x_train[['Aeration rate(Fg:L/h)', 'carbon dioxide percent in off-gas(CO2outgas:%)', 'Oil flow(Foil:L/hr)', 'Dissolved oxygen concentration(DO2:mg/L)', 'Temperature(T:K)', 'Sugar feed rate(Fs:L/h)']],y_train)"
   ]
  },
  {
   "cell_type": "markdown",
   "metadata": {},
   "source": [
    "Let's Calculate the R^2 on the test data:"
   ]
  },
  {
   "cell_type": "code",
   "execution_count": 55,
   "metadata": {},
   "outputs": [
    {
     "data": {
      "text/plain": [
       "0.7434210766193005"
      ]
     },
     "execution_count": 55,
     "metadata": {},
     "output_type": "execute_result"
    }
   ],
   "source": [
    "lr.score(x_test[['Aeration rate(Fg:L/h)', 'carbon dioxide percent in off-gas(CO2outgas:%)', 'Oil flow(Foil:L/hr)', 'Dissolved oxygen concentration(DO2:mg/L)', 'Temperature(T:K)', 'Sugar feed rate(Fs:L/h)']], y_test)"
   ]
  },
  {
   "cell_type": "markdown",
   "metadata": {},
   "source": [
    "And on the train data:"
   ]
  },
  {
   "cell_type": "code",
   "execution_count": 56,
   "metadata": {},
   "outputs": [
    {
     "data": {
      "text/plain": [
       "0.7429333721587776"
      ]
     },
     "execution_count": 56,
     "metadata": {},
     "output_type": "execute_result"
    }
   ],
   "source": [
    "lr.score(x_train[['Aeration rate(Fg:L/h)', 'carbon dioxide percent in off-gas(CO2outgas:%)', 'Oil flow(Foil:L/hr)', 'Dissolved oxygen concentration(DO2:mg/L)', 'Temperature(T:K)', 'Sugar feed rate(Fs:L/h)']], y_train)"
   ]
  },
  {
   "cell_type": "markdown",
   "metadata": {},
   "source": [
    "Test and train data give us similar values of R^2. Therefore we can assume that model is not underfitted or overfitted. "
   ]
  },
  {
   "cell_type": "code",
   "execution_count": 58,
   "metadata": {},
   "outputs": [
    {
     "data": {
      "text/plain": [
       "array([ 4.91992603, 15.54119513,  9.32780816, 23.35495682, 19.51682698])"
      ]
     },
     "execution_count": 58,
     "metadata": {},
     "output_type": "execute_result"
    }
   ],
   "source": [
    "yhat_train=lr.predict(x_train[['Aeration rate(Fg:L/h)', 'carbon dioxide percent in off-gas(CO2outgas:%)', 'Oil flow(Foil:L/hr)', 'Dissolved oxygen concentration(DO2:mg/L)', 'Temperature(T:K)', 'Sugar feed rate(Fs:L/h)']])\n",
    "yhat_train[0:5]"
   ]
  },
  {
   "cell_type": "code",
   "execution_count": 59,
   "metadata": {},
   "outputs": [
    {
     "data": {
      "text/plain": [
       "array([ 3.50306619, 23.30373048,  2.09017531, 15.7684404 ,  2.31650163])"
      ]
     },
     "execution_count": 59,
     "metadata": {},
     "output_type": "execute_result"
    }
   ],
   "source": [
    "yhat_test=lr.predict(x_test[['Aeration rate(Fg:L/h)', 'carbon dioxide percent in off-gas(CO2outgas:%)', 'Oil flow(Foil:L/hr)', 'Dissolved oxygen concentration(DO2:mg/L)', 'Temperature(T:K)', 'Sugar feed rate(Fs:L/h)']])\n",
    "yhat_test[0:5]"
   ]
  },
  {
   "cell_type": "code",
   "execution_count": 60,
   "metadata": {},
   "outputs": [],
   "source": [
    "def DistributionPlot(RedFunction,BlueFunction,RedName,BlueName,Title ):\n",
    "    width = 12\n",
    "    height = 10\n",
    "    plt.figure(figsize=(width, height))\n",
    "\n",
    "    ax1 = sns.distplot(RedFunction, hist=False, color=\"r\", label=RedName)\n",
    "    ax2 = sns.distplot(BlueFunction, hist=False, color=\"b\", label=BlueName, ax=ax1)\n",
    "\n",
    "    plt.title(Title)\n",
    "    plt.xlabel('Penicillin concentration(P:g/L)')\n",
    "    plt.ylabel('Proportion of Batches')\n",
    "\n",
    "    plt.show()\n",
    "    plt.close()"
   ]
  },
  {
   "cell_type": "markdown",
   "metadata": {},
   "source": [
    "Let's examine the distribution of the predicted values of the training and testing data."
   ]
  },
  {
   "cell_type": "code",
   "execution_count": 61,
   "metadata": {},
   "outputs": [
    {
     "data": {
      "image/png": "[encoded data removed]",
      "text/plain": [
       "<Figure size 864x720 with 1 Axes>"
      ]
     },
     "metadata": {
      "needs_background": "light"
     },
     "output_type": "display_data"
    }
   ],
   "source": [
    "Title='Distribution  Plot of  Predicted Value Using Training Data vs Training Data Distribution '\n",
    "DistributionPlot(y_train,yhat_train,\"Actual Values (Train)\",\"Predicted Values (Train)\",Title)"
   ]
  },
  {
   "cell_type": "code",
   "execution_count": 62,
   "metadata": {},
   "outputs": [
    {
     "data": {
      "image/png": "[encoded data removed]",
      "text/plain": [
       "<Figure size 864x720 with 1 Axes>"
      ]
     },
     "metadata": {
      "needs_background": "light"
     },
     "output_type": "display_data"
    }
   ],
   "source": [
    "Title='Distribution  Plot of  Predicted Value Using Test Data vs Data Distribution of Test Data'\n",
    "DistributionPlot(y_test,yhat_test,\"Actual Values (Test)\",\"Predicted Values (Test)\",Title)"
   ]
  },
  {
   "cell_type": "markdown",
   "metadata": {},
   "source": [
    "Using test data plot fit the data similarly like using train data. Which is consistent with similar R^2 values. But perfomance isn´t good enough."
   ]
  },
  {
   "cell_type": "markdown",
   "metadata": {},
   "source": [
    "But maybe polynomial regression would have done better..."
   ]
  },
  {
   "cell_type": "code",
   "execution_count": 63,
   "metadata": {},
   "outputs": [],
   "source": [
    "from sklearn.preprocessing import PolynomialFeatures\n",
    "pr=PolynomialFeatures(degree=4)\n",
    "x_train_pr=pr.fit_transform(x_train[['Aeration rate(Fg:L/h)', 'carbon dioxide percent in off-gas(CO2outgas:%)', 'Oil flow(Foil:L/hr)', 'Dissolved oxygen concentration(DO2:mg/L)', 'Temperature(T:K)', 'Sugar feed rate(Fs:L/h)']])\n",
    "x_test_pr=pr.fit_transform(x_test[['Aeration rate(Fg:L/h)', 'carbon dioxide percent in off-gas(CO2outgas:%)', 'Oil flow(Foil:L/hr)', 'Dissolved oxygen concentration(DO2:mg/L)', 'Temperature(T:K)', 'Sugar feed rate(Fs:L/h)']])"
   ]
  },
  {
   "cell_type": "code",
   "execution_count": 64,
   "metadata": {},
   "outputs": [
    {
     "data": {
      "text/plain": [
       "LinearRegression(copy_X=True, fit_intercept=True, n_jobs=None, normalize=False)"
      ]
     },
     "execution_count": 64,
     "metadata": {},
     "output_type": "execute_result"
    }
   ],
   "source": [
    "poly=LinearRegression()\n",
    "poly.fit(x_train_pr,y_train)"
   ]
  },
  {
   "cell_type": "code",
   "execution_count": 65,
   "metadata": {},
   "outputs": [
    {
     "data": {
      "text/plain": [
       "array([ 1.06426279, 20.43865938,  3.13567508, 16.08671711,  0.74749685])"
      ]
     },
     "execution_count": 65,
     "metadata": {},
     "output_type": "execute_result"
    }
   ],
   "source": [
    "yhat1=poly.predict(x_test_pr )\n",
    "yhat1[0:5]"
   ]
  },
  {
   "cell_type": "markdown",
   "metadata": {},
   "source": [
    "Let's take the first five predicted values and compare it to the actual targets."
   ]
  },
  {
   "cell_type": "code",
   "execution_count": 66,
   "metadata": {},
   "outputs": [
    {
     "name": "stdout",
     "output_type": "stream",
     "text": [
      "Predicted values: [ 1.06426279 20.43865938  3.13567508 16.08671711]\n",
      "True values: [ 0.67228 15.256    3.1103  21.159  ]\n"
     ]
    }
   ],
   "source": [
    "print(\"Predicted values:\", yhat1[0:4])\n",
    "print(\"True values:\",y_test[0:4].values)"
   ]
  },
  {
   "cell_type": "markdown",
   "metadata": {},
   "source": [
    "R^2 of the training data:"
   ]
  },
  {
   "cell_type": "code",
   "execution_count": 67,
   "metadata": {},
   "outputs": [
    {
     "data": {
      "text/plain": [
       "0.9141881165560073"
      ]
     },
     "execution_count": 67,
     "metadata": {},
     "output_type": "execute_result"
    }
   ],
   "source": [
    "poly.score(x_train_pr, y_train)"
   ]
  },
  {
   "cell_type": "markdown",
   "metadata": {},
   "source": [
    "R^2 of the test data:"
   ]
  },
  {
   "cell_type": "code",
   "execution_count": 68,
   "metadata": {},
   "outputs": [
    {
     "data": {
      "text/plain": [
       "0.8953629144087957"
      ]
     },
     "execution_count": 68,
     "metadata": {},
     "output_type": "execute_result"
    }
   ],
   "source": [
    "poly.score(x_test_pr, y_test)"
   ]
  },
  {
   "cell_type": "markdown",
   "metadata": {},
   "source": [
    "We can see that polynomial regression model fits data better. Let´s examine impact order of polynom on R^2."
   ]
  },
  {
   "cell_type": "code",
   "execution_count": 69,
   "metadata": {},
   "outputs": [
    {
     "data": {
      "text/plain": [
       "Text(3, 0.75, 'Maximum R^2 ')"
      ]
     },
     "execution_count": 69,
     "metadata": {},
     "output_type": "execute_result"
    },
    {
     "data": {
      "image/png": "[encoded data removed]",
      "text/plain": [
       "<Figure size 432x288 with 1 Axes>"
      ]
     },
     "metadata": {
      "needs_background": "light"
     },
     "output_type": "display_data"
    }
   ],
   "source": [
    "Rsqu_test=[]\n",
    "\n",
    "order=[1,2,3,4,5]\n",
    "for n in order:\n",
    "    pr=PolynomialFeatures(degree=n)\n",
    "    \n",
    "    x_train_pr=pr.fit_transform(x_train[['Aeration rate(Fg:L/h)', 'carbon dioxide percent in off-gas(CO2outgas:%)', 'Oil flow(Foil:L/hr)', 'Dissolved oxygen concentration(DO2:mg/L)', 'Temperature(T:K)', 'Sugar feed rate(Fs:L/h)']])\n",
    "    \n",
    "    x_test_pr=pr.fit_transform(x_test[['Aeration rate(Fg:L/h)', 'carbon dioxide percent in off-gas(CO2outgas:%)', 'Oil flow(Foil:L/hr)', 'Dissolved oxygen concentration(DO2:mg/L)', 'Temperature(T:K)', 'Sugar feed rate(Fs:L/h)']])    \n",
    "    \n",
    "    lr.fit(x_train_pr,y_train)\n",
    "    \n",
    "    Rsqu_test.append(lr.score(x_test_pr,y_test))\n",
    "\n",
    "plt.plot(order,Rsqu_test)\n",
    "plt.xlabel('order')\n",
    "plt.ylabel('R^2')\n",
    "plt.title('R^2 Using Test Data')\n",
    "plt.text(3, 0.75, 'Maximum R^2 ')"
   ]
  },
  {
   "cell_type": "markdown",
   "metadata": {},
   "source": [
    "The best performance is with 4th order of polynom. \n",
    "\n",
    "We can deduce from these result that polynomial regression model performs better for this dataset. Using 4th order polynom we accomplished R^2 about 90%."
   ]
  }
 ],
 "metadata": {
  "kernelspec": {
   "display_name": "Python 3",
   "language": "python",
   "name": "python3"
  },
  "language_info": {
   "codemirror_mode": {
    "name": "ipython",
    "version": 3
   },
   "file_extension": ".py",
   "mimetype": "text/x-python",
   "name": "python",
   "nbconvert_exporter": "python",
   "pygments_lexer": "ipython3",
   "version": "3.7.6"
  }
 },
 "nbformat": 4,
 "nbformat_minor": 4
}
